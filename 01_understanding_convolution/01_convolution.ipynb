{
 "cells": [
  {
   "cell_type": "markdown",
   "metadata": {},
   "source": [
    "# convolution\n",
    "\n",
    "convolution is one of the easiest - yet most obfuscated mathematical operations. \n",
    "\n",
    "**discrete convolution is a weighted overlap and add operation. **\n",
    "\n",
    "*that's it.*\n",
    "\n",
    "I cannot tell you how many signal processing texts I have read that go into long winded missives about the complexities of convolution. Yes, there are complexities - but there are also some really simple things about convolution that are should not be lost at the expense of the complicated things.\n",
    "\n",
    "ok - here we go. Let's start simple and see how convolution works through examples. \n",
    "\n",
    "*(these examples look at convolution in the context of numpy)*"
   ]
  },
  {
   "cell_type": "code",
   "execution_count": 1,
   "metadata": {},
   "outputs": [],
   "source": [
    "import numpy as np"
   ]
  },
  {
   "cell_type": "markdown",
   "metadata": {},
   "source": [
    "### phase 1 - so easy you wonder why we're doing this\n",
    "\n",
    "Convolution will produce an output sequence from the inputs via numerical magic. The pattern by which the magic plays can be seen if you:\n",
    "\n",
    "* Think of `x` as a set of weights for each index\n",
    "* Think of `y` as an entity to scaled and added to the output by the weighted prescriptions from `x`. \n",
    "\n",
    "So, to generate an output with the number 99 scaled by factor of `1` at the second location, you would say"
   ]
  },
  {
   "cell_type": "code",
   "execution_count": 2,
   "metadata": {},
   "outputs": [
    {
     "name": "stdout",
     "output_type": "stream",
     "text": [
      "[ 0 99  0  0]\n"
     ]
    }
   ],
   "source": [
    "x = [0, 1, 0, 0]\n",
    "y = [99]\n",
    "\n",
    "z = np.convolve(x, y, 'full')\n",
    "print(z)"
   ]
  },
  {
   "cell_type": "markdown",
   "metadata": {},
   "source": [
    "So what did this do? It generated an output sequence in which the number `99` was scaled by:\n",
    "* `0` at the first location\n",
    "* `1` at the second location\n",
    "* `0` at the third location\n",
    "* `0` at the fourth location"
   ]
  },
  {
   "cell_type": "markdown",
   "metadata": {},
   "source": [
    "To generate an output sequence with the number 99 scaled by a factor of `1` at both the second and fourth locations, you would say"
   ]
  },
  {
   "cell_type": "code",
   "execution_count": 3,
   "metadata": {},
   "outputs": [
    {
     "name": "stdout",
     "output_type": "stream",
     "text": [
      "[ 0 99  0 99]\n"
     ]
    }
   ],
   "source": [
    "x = [0, 1, 0, 1]\n",
    "y = [99]\n",
    "\n",
    "z = np.convolve(x, y, 'full')\n",
    "print(z)"
   ]
  },
  {
   "cell_type": "markdown",
   "metadata": {},
   "source": [
    "To create an output sequence with the number 99 scaled by\n",
    "* a factor of `1` at the second location _and_\n",
    "* a factor of `2` at the fourth location _and_\n",
    "* a factor of `0` at all other locations\n",
    "\n",
    "you would say"
   ]
  },
  {
   "cell_type": "code",
   "execution_count": 4,
   "metadata": {},
   "outputs": [
    {
     "name": "stdout",
     "output_type": "stream",
     "text": [
      "[  0  99   0 198]\n"
     ]
    }
   ],
   "source": [
    "x = [0, 1, 0, 2]\n",
    "y = [99]\n",
    "\n",
    "z = np.convolve(x, y, 'full')\n",
    "print(z)"
   ]
  },
  {
   "cell_type": "markdown",
   "metadata": {},
   "source": [
    "which is consistent with what was observed in the previous example.\n",
    "\n",
    "Something to note at this point is that `0` is different from 'not there.' The above output is length `4` because we stuffed zeros in at the first and third locations. The output would be shorter if we left them out - which can be seen in the following operations which produce very different, but predictable output sequences."
   ]
  },
  {
   "cell_type": "code",
   "execution_count": 5,
   "metadata": {},
   "outputs": [
    {
     "name": "stdout",
     "output_type": "stream",
     "text": [
      "[20 40] \n",
      "\n",
      "[20  0  0 40] \n",
      "\n",
      "[20 10 10 40] \n",
      "\n"
     ]
    }
   ],
   "source": [
    "x = [2, 4]\n",
    "y = [10]\n",
    "\n",
    "z = np.convolve(x, y, 'full')\n",
    "print(z, \"\\n\")\n",
    "\n",
    "x = [2, 0, 0, 4]\n",
    "y = [10]\n",
    "\n",
    "z = np.convolve(x, y, 'full')\n",
    "print(z, \"\\n\")\n",
    "\n",
    "x = [2, 1, 1, 4]\n",
    "y = [10]\n",
    "\n",
    "z = np.convolve(x, y, 'full')\n",
    "print(z, \"\\n\")"
   ]
  },
  {
   "cell_type": "markdown",
   "metadata": {},
   "source": [
    "### phase 2 - should make sense if you've read phase 1\n",
    "\n",
    "At this point, we're going to change things up a _little_ bit. Our weighted output index instruction vector is going to be bascially the same, but the entity we scale, `y`, is going to be a vector. Again, let's make the following assumptions:\n",
    "\n",
    "* Thinking of `x` as a set of weights for each index of the output\n",
    "* Think of `y` as an entity to scaled and added to the output by the weighted prescriptions from `x`. \n",
    "\n",
    "The first operation will be to scale the vector `[10, 10]` with a factor of `5` and overlap it with the output at the first location"
   ]
  },
  {
   "cell_type": "code",
   "execution_count": 6,
   "metadata": {},
   "outputs": [
    {
     "name": "stdout",
     "output_type": "stream",
     "text": [
      "[50 50]\n"
     ]
    }
   ],
   "source": [
    "weights_by_index = [5]\n",
    "target_to_scale  = [10, 10]\n",
    "\n",
    "z = np.convolve(weights_by_index, target_to_scale, 'full')\n",
    "print(z)"
   ]
  },
  {
   "cell_type": "markdown",
   "metadata": {},
   "source": [
    "Note that the `weights_by_index` vector only has a length of `1`, but the `target_to_scale` vector has a length of `2`. This means a couple things: \n",
    "\n",
    "* the output we create are going to have to have a length of `2` (since we're not going to drop any of the scaled computations we have performed)\n",
    "* that the first and second slots of the output will be filled with `target_to_scale.` weighted by a factor of `5`.\n",
    "\n",
    "It is important to observe that the output winds up being longer than the `weights_by_index` vector. Let's a look at another example:"
   ]
  },
  {
   "cell_type": "code",
   "execution_count": 7,
   "metadata": {},
   "outputs": [
    {
     "name": "stdout",
     "output_type": "stream",
     "text": [
      "[ 5 10 15 20 25]\n"
     ]
    }
   ],
   "source": [
    "weights_by_index = [5]\n",
    "target_to_scale  = [1, 2, 3, 4, 5]\n",
    "\n",
    "z = np.convolve(weights_by_index, target_to_scale, 'full')\n",
    "print(z)"
   ]
  },
  {
   "cell_type": "markdown",
   "metadata": {},
   "source": [
    "The length of this output should make sense. `target_to_scale` was scaled by a factor of five and inserted in the first location.\n",
    "\n",
    "In the following example, we'll have a longer `weights_by_index` vector. The target will be scaled and applied to the output at the first and fifth locations as prescibed"
   ]
  },
  {
   "cell_type": "code",
   "execution_count": 8,
   "metadata": {},
   "outputs": [
    {
     "name": "stdout",
     "output_type": "stream",
     "text": [
      "[ 4  8 12  0  2  4  6]\n"
     ]
    }
   ],
   "source": [
    "weights_by_index = [2, 0, 0, 0, 1]\n",
    "target_to_scale  = [2, 4, 6]\n",
    "\n",
    "z = np.convolve(weights_by_index, target_to_scale, 'full')\n",
    "print(z)"
   ]
  },
  {
   "cell_type": "markdown",
   "metadata": {},
   "source": [
    "Here's another example. Note that the length of the output sequence is *always* `length(x) + length(y) - 1` (verify this with the other examples on the page)"
   ]
  },
  {
   "cell_type": "code",
   "execution_count": 9,
   "metadata": {},
   "outputs": [
    {
     "name": "stdout",
     "output_type": "stream",
     "text": [
      "[  4.  12.   2.   6.   1.   3.]\n"
     ]
    }
   ],
   "source": [
    "weights_by_index = [2, 0, 1, 0, 0.5]\n",
    "target_to_scale  = [2, 6]\n",
    "\n",
    "z = np.convolve(weights_by_index, target_to_scale, 'full')\n",
    "print(z)"
   ]
  },
  {
   "cell_type": "markdown",
   "metadata": {},
   "source": [
    "### a little secret about convolution\n",
    "\n",
    "Guess what? You may not have noticed this, but the order of `weights_by_index` and `target_to_scale` doesn't matter. Convolution is a linear operator, and as such has the commutative property (as well as associative and distributive properties).\n",
    "\n",
    "Not convinced? Examine this example with the \"weights\" and \"targets\" logic in mind."
   ]
  },
  {
   "cell_type": "code",
   "execution_count": 10,
   "metadata": {},
   "outputs": [
    {
     "name": "stdout",
     "output_type": "stream",
     "text": [
      "[8 0 4] \n",
      "\n",
      "[8 0 4] \n",
      "\n"
     ]
    }
   ],
   "source": [
    "weights_by_index = [2, 0, 1]\n",
    "target_to_scale  = [4]\n",
    "\n",
    "z = np.convolve(weights_by_index, target_to_scale, 'full')\n",
    "print(z, \"\\n\")\n",
    "\n",
    "weights_by_index = [4]\n",
    "target_to_scale  = [2, 0, 1]\n",
    "\n",
    "\n",
    "z = np.convolve(weights_by_index, target_to_scale, 'full')\n",
    "print(z, \"\\n\")"
   ]
  },
  {
   "cell_type": "markdown",
   "metadata": {},
   "source": [
    "or the following example "
   ]
  },
  {
   "cell_type": "code",
   "execution_count": 11,
   "metadata": {},
   "outputs": [
    {
     "name": "stdout",
     "output_type": "stream",
     "text": [
      "[0 1 0 0] \n",
      "\n",
      "[0 1 0 0] \n",
      "\n"
     ]
    }
   ],
   "source": [
    "weights_by_index = [1, 0, 0]\n",
    "target_to_scale  = [0, 1]\n",
    "\n",
    "z = np.convolve(weights_by_index, target_to_scale, 'full')\n",
    "print(z, \"\\n\")\n",
    "\n",
    "weights_by_index = [0, 1]\n",
    "target_to_scale  = [1, 0, 0]\n",
    "\n",
    "\n",
    "z = np.convolve(weights_by_index, target_to_scale, 'full')\n",
    "print(z, \"\\n\")"
   ]
  },
  {
   "cell_type": "markdown",
   "metadata": {},
   "source": [
    "note "
   ]
  },
  {
   "cell_type": "markdown",
   "metadata": {},
   "source": [
    "### phase 3 - starting to get a little convoluted\n",
    "\n",
    "Let's still operate from a mindset of `weights_by_index` and `target_to_scale` for purposes of organization in your brain parts. \n",
    "\n",
    "Now I'm going to do something fancy here, I'm going to make `target_to_scale` a vector that is long enough that it can _overlap_ a previous application from `weights_by_index`. Let's step through from non-overlapped to overlapped..."
   ]
  },
  {
   "cell_type": "code",
   "execution_count": 12,
   "metadata": {},
   "outputs": [
    {
     "name": "stdout",
     "output_type": "stream",
     "text": [
      "[ 3  4  0  0 30 40] \n",
      "\n",
      "[ 3  4  0 30 40] \n",
      "\n",
      "[ 3  4 30 40] \n",
      "\n",
      "[ 3 34 40] \n",
      "\n"
     ]
    }
   ],
   "source": [
    "weights_by_index = [1, 0, 0, 0, 10]\n",
    "target_to_scale  = [3, 4]\n",
    "\n",
    "z = np.convolve(weights_by_index, target_to_scale, 'full')\n",
    "print(z, \"\\n\")\n",
    "\n",
    "weights_by_index = [1, 0, 0, 10]\n",
    "target_to_scale  = [3, 4]\n",
    "\n",
    "z = np.convolve(weights_by_index, target_to_scale, 'full')\n",
    "print(z, \"\\n\")\n",
    "\n",
    "weights_by_index = [1, 0, 10]\n",
    "target_to_scale  = [3, 4]\n",
    "\n",
    "z = np.convolve(weights_by_index, target_to_scale, 'full')\n",
    "print(z, \"\\n\")\n",
    "\n",
    "weights_by_index = [1, 10]\n",
    "target_to_scale  = [3, 4]\n",
    "\n",
    "z = np.convolve(weights_by_index, target_to_scale, 'full')\n",
    "print(z, \"\\n\")"
   ]
  },
  {
   "cell_type": "markdown",
   "metadata": {},
   "source": [
    "Ok, did you see that? The `30` and the `4` overlapped to create `34`! That was pretty awesome. \n",
    "\n",
    "If that result makes sense, then numerically you get convolution. We can go one step further and see how a single cell can be the application of weighted add operations. Here, the third cell is the sum of a weight 1 operation, a weight 10 operation and a weight 100 operation"
   ]
  },
  {
   "cell_type": "code",
   "execution_count": 13,
   "metadata": {},
   "outputs": [
    {
     "name": "stdout",
     "output_type": "stream",
     "text": [
      "[  1  11 111 110 100] \n",
      "\n"
     ]
    }
   ],
   "source": [
    "weights_by_index = [1, 1, 1]\n",
    "target_to_scale  = [1, 10, 100]\n",
    "\n",
    "z = np.convolve(weights_by_index, target_to_scale, 'full')\n",
    "print(z, \"\\n\")"
   ]
  },
  {
   "cell_type": "markdown",
   "metadata": {},
   "source": [
    "Below is more of a standard teaching example. I kind of hate this this example, but I feel that above descrtiption should make the output of the operation a lot more intuitive to you than it was five minutes ago:"
   ]
  },
  {
   "cell_type": "code",
   "execution_count": 14,
   "metadata": {},
   "outputs": [
    {
     "name": "stdout",
     "output_type": "stream",
     "text": [
      "[1 2 3 2 1] \n",
      "\n"
     ]
    }
   ],
   "source": [
    "weights_by_index = [1, 1, 1]\n",
    "target_to_scale  = [1, 1, 1]\n",
    "\n",
    "z = np.convolve(weights_by_index, target_to_scale, 'full')\n",
    "print(z, \"\\n\")"
   ]
  }
 ],
 "metadata": {
  "kernelspec": {
   "display_name": "Python 3",
   "language": "python",
   "name": "python3"
  },
  "language_info": {
   "codemirror_mode": {
    "name": "ipython",
    "version": 3
   },
   "file_extension": ".py",
   "mimetype": "text/x-python",
   "name": "python",
   "nbconvert_exporter": "python",
   "pygments_lexer": "ipython3",
   "version": "3.5.2"
  }
 },
 "nbformat": 4,
 "nbformat_minor": 2
}
