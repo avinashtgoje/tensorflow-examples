{
 "cells": [
  {
   "cell_type": "markdown",
   "metadata": {},
   "source": [
    "# convolution - 2d\n",
    "\n",
    "Two dimensional convolution is really not that different from vector convolution. The same rules apply, we are just going to use them in the 2d case now. Do you remember what we said about convolution before?\n",
    "\n",
    "**discrete convolution is a weighted overlap and add operation. **\n",
    "\n",
    "*that's it.*\n",
    "\n",
    "That still stands. I am going to explore 2d convolution using MATLAB.\n"
   ]
  },
  {
   "cell_type": "markdown",
   "metadata": {},
   "source": [
    "### phase 1 - reiterating the rules of 1d convolution\n",
    "\n",
    "The goal again is to create an ouput sequence (ok, ultimately matrix) based upon weighted overlap and add instructions.\n",
    "\n",
    "I'll start off reiterating what we saw before:\n",
    "* `targetToScale` is 'applied' to the output by a factor of `weightsByIndex[n]` for each `n`, meaning:\n",
    "    *  `[2, 2]` is going to be applied to the first two positions of the output\n",
    "    *  `[20, 20]` is going to be applied to the third and fourth positions\n",
    "* the output length is going to be **4** - since `weightsByIndex` is length **3**, and a sequence of length **2** (`[20, 20]`) has to start there"
   ]
  },
  {
   "cell_type": "code",
   "execution_count": 1,
   "metadata": {},
   "outputs": [
    {
     "name": "stdout",
     "output_type": "stream",
     "text": [
      "\n",
      "weightsByIndex =\n",
      "\n",
      "     1     0    10\n",
      "\n",
      "\n",
      "targetToScale =\n",
      "\n",
      "     2     2\n",
      "\n",
      "\n",
      "convRes =\n",
      "\n",
      "     2     2    20    20\n",
      "\n",
      "\n"
     ]
    }
   ],
   "source": [
    "weightsByIndex = [1, 0, 10]\n",
    "targetToScale  = [2, 2]\n",
    "convRes        = conv2( weightsByIndex, targetToScale )"
   ]
  },
  {
   "cell_type": "markdown",
   "metadata": {},
   "source": [
    "I know this might seem like overkill, but understanding how the ouput is sized is actually important. One more example.\n",
    "\n",
    "Let's use the same logic as before:\n",
    "* `targetToScale` is 'applied' to the output by a factor of `weightsByIndex[n]` for each `n`, meaning:\n",
    "    *  `[2, 2]` is going to be applied to positions one and two\n",
    "    *  `[20, 20]` is going to be applied to positions two and three\n",
    "    *  `[0, 0]` _i.e. the result of_ `0 * [2, 2]` is applied to positions three and four\n",
    "* the output length is going to be **4** - since `weightsByIndex` is length **3**, and a sequence of length **2** (`[0, 0]`) has to start there"
   ]
  },
  {
   "cell_type": "code",
   "execution_count": 2,
   "metadata": {},
   "outputs": [
    {
     "name": "stdout",
     "output_type": "stream",
     "text": [
      "\n",
      "weightsByIndex =\n",
      "\n",
      "     1    10     0\n",
      "\n",
      "\n",
      "targetToScale =\n",
      "\n",
      "     2     2\n",
      "\n",
      "\n",
      "convRes =\n",
      "\n",
      "     2    22    20     0\n",
      "\n",
      "\n"
     ]
    }
   ],
   "source": [
    "weightsByIndex = [1, 10, 0]\n",
    "targetToScale  = [2, 2]\n",
    "convRes        = conv2( weightsByIndex, targetToScale )"
   ]
  },
  {
   "cell_type": "markdown",
   "metadata": {},
   "source": [
    "### phase 2 - moving to very simple 2-d convolution\n",
    "\n",
    "So - let's start by convolving a column vector with a row vector. The result should be predictable based upon same rules from the previous example, but let's be explicit.\n",
    "\n",
    "I'll start off reiterating what we saw before:\n",
    "* `weightsByIndex` specifies where to 'apply' each scaled instance of `targetToScale` is 'applied' to the output by a factor of  for each `n`, meaning:\n",
    "    *  the column vector `[2; 2]` is going to be applied at the **first** column of the first row of the output\n",
    "    *  the column vector `[20; 20]` is going to be applied at the **second** column of the first row of the output\n",
    "    *  the column vector `[0; 0]` is going to be applied at the **third** column of the first row of the output\n",
    "* the output size is going to be **`(nRows=2, nCols=3)`** - since `weightsByIndex` is a row of length **3**, and a column of `nRows` **2** has to start at each position of the row"
   ]
  },
  {
   "cell_type": "code",
   "execution_count": 3,
   "metadata": {},
   "outputs": [
    {
     "name": "stdout",
     "output_type": "stream",
     "text": [
      "\n",
      "weightsByIndex =\n",
      "\n",
      "     1    10     0\n",
      "\n",
      "\n",
      "targetToScale =\n",
      "\n",
      "     2\n",
      "     2\n",
      "\n",
      "\n",
      "convRes =\n",
      "\n",
      "     2    20     0\n",
      "     2    20     0\n",
      "\n",
      "\n"
     ]
    }
   ],
   "source": [
    "weightsByIndex = [1, 10, 0]\n",
    "targetToScale  = [2; 2]\n",
    "convRes        = conv2( weightsByIndex, targetToScale )"
   ]
  },
  {
   "cell_type": "markdown",
   "metadata": {},
   "source": [
    "another example, this time `weightsByIndex` is going to be two rows long. The logic here is again that:\n",
    "\n",
    "* `weightsByIndex` specifies (row, column) staring where positions of to 'apply' each scaled instance of `targetToScale`. Specifically:\n",
    "    *  the column vector `[2; 2]` is going to be applied at the **first** column of the **first** row of the output\n",
    "    *  the column vector `[20; 20]` is going to be applied at the **third** column of the **second** row of the output\n",
    "    *  the column vector `[0; 0]` is going to be applied at all other starting positiions\n",
    "* the output size is going to be **(nRows=3, nCols=3)** - since `weightsByIndex` is of size **(nRows=2, nCols=3)**, and a column of `nRows` **2** has to start at its final position"
   ]
  },
  {
   "cell_type": "code",
   "execution_count": 4,
   "metadata": {},
   "outputs": [
    {
     "name": "stdout",
     "output_type": "stream",
     "text": [
      "\n",
      "weightsByIndex =\n",
      "\n",
      "     1     0     0\n",
      "     0     0    10\n",
      "\n",
      "\n",
      "targetToScale =\n",
      "\n",
      "     2\n",
      "     2\n",
      "\n",
      "\n",
      "convRes =\n",
      "\n",
      "     2     0     0\n",
      "     2     0    20\n",
      "     0     0    20\n",
      "\n",
      "\n"
     ]
    }
   ],
   "source": [
    "weightsByIndex = [1, 0, 0; 0, 0, 10]\n",
    "targetToScale  = [2; 2]\n",
    "convRes        = conv2( weightsByIndex, targetToScale )"
   ]
  },
  {
   "cell_type": "markdown",
   "metadata": {},
   "source": [
    "in this example `weightsByIndex` is again going to be two rows long, but `targetToScale` will be a row vector. The result should be intuitive at this point, but I will be explict\n",
    "\n",
    "* `weightsByIndex` again specifies (row, column) staring where positions of to 'apply' each scaled instance of `targetToScale`, and in this case:\n",
    "    *  the row vector `[5, 5]` is going to be applied at the **first** column of the **first** row of the output\n",
    "    *  the row vector `[50, 50]` is going to be applied at the **third** column of the **second** row of the output\n",
    "    *  the row vector `[0, 0]` is going to be applied at all other starting positiions\n",
    "* the output size is going to be **(nRows=2, nCols=4)** - since `weightsByIndex` is of size **(nRows=2, nCols=3)**, and a column of `nCols` **2** has to start at the final cell"
   ]
  },
  {
   "cell_type": "code",
   "execution_count": 5,
   "metadata": {},
   "outputs": [
    {
     "name": "stdout",
     "output_type": "stream",
     "text": [
      "\n",
      "weightsByIndex =\n",
      "\n",
      "     1     0     0\n",
      "     0     0    10\n",
      "\n",
      "\n",
      "targetToScale =\n",
      "\n",
      "     5     5\n",
      "\n",
      "\n",
      "convRes =\n",
      "\n",
      "     5     5     0     0\n",
      "     0     0    50    50\n",
      "\n",
      "\n"
     ]
    }
   ],
   "source": [
    "weightsByIndex = [1, 0, 0; 0, 0, 10]\n",
    "targetToScale  = [5, 5]\n",
    "convRes        = conv2( weightsByIndex, targetToScale )"
   ]
  },
  {
   "cell_type": "markdown",
   "metadata": {},
   "source": [
    "### phase 3 - slightly less simple very simple 2-d convolution\n",
    "\n",
    "Ok, there had to be a point where this stuff started to get nuanced. It's easiest to explain with odd number of columns.\n",
    "\n",
    "This example has a  `weightsByIndex` that is very much familiar, but `targetToScale` will be a column vector with `nCols=3`. According to our logic from the previous examples, the size of the result will be **(nRows=3, nCols=3)**, which it is.\n",
    "\n",
    "The convolutions that we have performed to this point both in numpy and MATLAB are considered `'full'`, which means that the full entire result is computed and returned. The reality is that in many, arguably most, cases of convolution we don't care about the full result. The reason people don't care about everything is that convolution is **mathematical filtering**, and most times we only care about the subset of the result that corresponds to the filter operation. The greater implication is that - and you can't really see this from my simple examples - convolution is an operation in which the frequency spectrum of the first sequence is multiplicatively scaled by the frequency spectrum of the sequence. \n",
    "\n",
    "So, we're not going to talk about the **awesome** intricacies and possibilities of what it means to filter via convolution here. Sadly, this is just a pragmatic discussion of a mathematical process.\n",
    "\n",
    "The key here is to highlight the difference between `'full'` and `'same'` sized operations. Full is what we talked about to this point. My intuition says you get it. `'same'` is a little more nuanced. Key Points:\n",
    "* `weightsByIndex` has been renamed `sourceSignal` to imply that it is some source data in need of filtering. (It is still going to behave the same as before)\n",
    "* `targetToScale` has been renamed `kernel` to imply that it is a convolution kernel with some characteristic that will project onto the source. (It also is going to behave the same as before)\n",
    "* The `'same'` operation returns an output that is the same size as the first input to the `conv2` operation. You will notice that the result it not the fist row of `convResFull` though! This is because\n",
    "    * the column vector `kernel` is going to be **centered** on each source signal data point before it is applied, with the implication that the indices of the `'full'` results are\n",
    "```\n",
    "(r=-1,c=0) (r=-1,c=1) (r=-1,c=2)\n",
    "(r= 0,c=0) (r= 0,c=1) (r= 0,c=2)\n",
    "(r= 1,c=0) (r= 1,c=1) (r= 1,c=2)\n",
    "```\n",
    "    * since the size of `sourceSignal` is **(nRows=1, nCols=3)**, the output will be size **(nRows=1, nCols=3)**, and we will only keep **row zero**"
   ]
  },
  {
   "cell_type": "code",
   "execution_count": 6,
   "metadata": {},
   "outputs": [
    {
     "name": "stdout",
     "output_type": "stream",
     "text": [
      "\n",
      "sourceSignal =\n",
      "\n",
      "     1     0     2\n",
      "\n",
      "\n",
      "kernel =\n",
      "\n",
      "     1\n",
      "     2\n",
      "     3\n",
      "\n",
      "\n",
      "convResFull =\n",
      "\n",
      "     1     0     2\n",
      "     2     0     4\n",
      "     3     0     6\n",
      "\n",
      "\n",
      "convResSame =\n",
      "\n",
      "     2     0     4\n",
      "\n",
      "\n"
     ]
    }
   ],
   "source": [
    "sourceSignal = [1, 0, 2]\n",
    "kernel       = [1; 2 ;3]\n",
    "convResFull  = conv2( sourceSignal, kernel , 'full')\n",
    "convResSame  = conv2( sourceSignal, kernel , 'same')"
   ]
  },
  {
   "cell_type": "markdown",
   "metadata": {},
   "source": [
    "Here's another example that will highlight the difference between `'same'` and `'full'`, this time with a row vector kernel\n",
    "\n",
    "The key here is to highlight the difference between `'full'` and `'same'` sized operations. Full is what we talked about to this point. My intuition says you get it. `'same'` is a little more nuanced. Key Points:\n",
    "\n",
    "* the column vector `kernel` is again **centered** on each source signal data point before it is applied, but this time the centering is done with respect to the row, therefore\n",
    "* the implication is that the indices of output of a `'full'` convolution are:\n",
    "```\n",
    "(r=0,c=-1) (r=0,c= 0) (r=0,c= 1) (r= 0,c=2) (r= 0,c=3) (r= 0,c=4) (r= 0,c=5)\n",
    "```\n",
    "* since the size of `sourceSignal` is (nRows=1, nCols=5), only columns zero through four, inclusive, are included in the `convResSame` result"
   ]
  },
  {
   "cell_type": "code",
   "execution_count": 7,
   "metadata": {},
   "outputs": [
    {
     "name": "stdout",
     "output_type": "stream",
     "text": [
      "\n",
      "sourceSignal =\n",
      "\n",
      "     1     0     0     0     5\n",
      "\n",
      "\n",
      "kernel =\n",
      "\n",
      "     1     2     3\n",
      "\n",
      "\n",
      "convResFull =\n",
      "\n",
      "     1     2     3     0     5    10    15\n",
      "\n",
      "\n",
      "convResSame =\n",
      "\n",
      "     2     3     0     5    10\n",
      "\n",
      "\n"
     ]
    }
   ],
   "source": [
    "sourceSignal = [1, 0, 0, 0, 5]\n",
    "kernel       = [1, 2, 3]\n",
    "convResFull  = conv2( sourceSignal, kernel , 'full')\n",
    "convResSame  = conv2( sourceSignal, kernel , 'same')"
   ]
  },
  {
   "cell_type": "markdown",
   "metadata": {},
   "source": [
    "So what if you have a kernel that has both rows and columns?\n",
    "\n",
    "Your answer plays by the rows and column rules that have been established.\n",
    "\n",
    "Here are two straightforward examples where the results from the source signal are non-overlapping:"
   ]
  },
  {
   "cell_type": "code",
   "execution_count": 8,
   "metadata": {},
   "outputs": [
    {
     "name": "stdout",
     "output_type": "stream",
     "text": [
      "\n",
      "sourceSignal =\n",
      "\n",
      "     1     0     0     0     5\n",
      "\n",
      "\n",
      "kernel =\n",
      "\n",
      "     1     1     1\n",
      "     2     2     2\n",
      "     3     3     3\n",
      "\n",
      "\n",
      "convResFull =\n",
      "\n",
      "     1     1     1     0     5     5     5\n",
      "     2     2     2     0    10    10    10\n",
      "     3     3     3     0    15    15    15\n",
      "\n",
      "\n",
      "convResSame =\n",
      "\n",
      "     2     2     0    10    10\n",
      "\n",
      "\n"
     ]
    }
   ],
   "source": [
    "sourceSignal = [1, 0, 0, 0, 5]\n",
    "kernel       = [1; 2; 3]*[1, 1, 1]\n",
    "convResFull  = conv2( sourceSignal, kernel , 'full')\n",
    "convResSame  = conv2( sourceSignal, kernel , 'same')"
   ]
  },
  {
   "cell_type": "code",
   "execution_count": 9,
   "metadata": {},
   "outputs": [
    {
     "name": "stdout",
     "output_type": "stream",
     "text": [
      "\n",
      "sourceSignal =\n",
      "\n",
      "     1     0     0     0     0\n",
      "     0     0     0     0     6\n",
      "\n",
      "\n",
      "kernel =\n",
      "\n",
      "     1     1     1\n",
      "     2     2     2\n",
      "     3     3     3\n",
      "\n",
      "\n",
      "convResFull =\n",
      "\n",
      "     1     1     1     0     0     0     0\n",
      "     2     2     2     0     6     6     6\n",
      "     3     3     3     0    12    12    12\n",
      "     0     0     0     0    18    18    18\n",
      "\n",
      "\n",
      "convResSame =\n",
      "\n",
      "     2     2     0     6     6\n",
      "     3     3     0    12    12\n",
      "\n",
      "\n"
     ]
    }
   ],
   "source": [
    "sourceSignal = [1, 0, 0, 0, 0; 0, 0, 0, 0, 6]\n",
    "kernel       = [1; 2; 3]*[1, 1, 1]\n",
    "convResFull  = conv2( sourceSignal, kernel , 'full')\n",
    "convResSame  = conv2( sourceSignal, kernel , 'same')"
   ]
  },
  {
   "cell_type": "markdown",
   "metadata": {},
   "source": [
    "And finally is a slightly more complicated operation that puts is all together. There are no new rules here - so I'm not going to give an explanation. If the result is predicatable and makes sense, congratulations - you understand how to calculate a convolution!"
   ]
  },
  {
   "cell_type": "code",
   "execution_count": 10,
   "metadata": {},
   "outputs": [
    {
     "name": "stdout",
     "output_type": "stream",
     "text": [
      "\n",
      "sourceSignal =\n",
      "\n",
      "           1           0           0\n",
      "         200           0       30000\n",
      "\n",
      "\n",
      "kernel =\n",
      "\n",
      "     1     1     1\n",
      "     2     2     2\n",
      "     3     3     3\n",
      "\n",
      "\n",
      "convResFull =\n",
      "\n",
      "           1           1           1           0           0\n",
      "         202         202       30202       30000       30000\n",
      "         403         403       60403       60000       60000\n",
      "         600         600       90600       90000       90000\n",
      "\n",
      "\n",
      "convResSame =\n",
      "\n",
      "         202       30202       30000\n",
      "         403       60403       60000\n",
      "\n",
      "\n"
     ]
    }
   ],
   "source": [
    "sourceSignal = [1, 0, 0; 200, 0 30000]\n",
    "kernel       = [1; 2; 3]*[1, 1, 1]\n",
    "convResFull  = conv2( sourceSignal, kernel , 'full')\n",
    "convResSame  = conv2( sourceSignal, kernel , 'same')"
   ]
  }
 ],
 "metadata": {
  "kernelspec": {
   "display_name": "Matlab",
   "language": "matlab",
   "name": "matlab"
  },
  "language_info": {
   "codemirror_mode": "octave",
   "file_extension": ".m",
   "help_links": [
    {
     "text": "MetaKernel Magics",
     "url": "https://github.com/calysto/metakernel/blob/master/metakernel/magics/README.md"
    }
   ],
   "mimetype": "text/x-octave",
   "name": "matlab",
   "version": "0.15.0"
  }
 },
 "nbformat": 4,
 "nbformat_minor": 2
}
