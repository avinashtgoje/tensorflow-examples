{
 "cells": [
  {
   "cell_type": "markdown",
   "metadata": {},
   "source": [
    "# tf.nn.conv2d\n",
    "\n",
    "#### demonstration of convolution in the context of tensorflow\n",
    "\n",
    "## Part 1 - vector convolution using tf.nn.conv2d\n",
    "\n",
    "* step 0 - import tensorflow!"
   ]
  },
  {
   "cell_type": "code",
   "execution_count": 1,
   "metadata": {},
   "outputs": [],
   "source": [
    "import tensorflow as tf"
   ]
  },
  {
   "cell_type": "markdown",
   "metadata": {},
   "source": [
    "when convolving a vector (not a matrix) like the simple examples before, we get predictable results (albeit reversed owing to the correlation implementation of convolution) \n",
    "\n",
    "#### Example 1: \n",
    "    * data has shape   (height=1, width=5)\n",
    "    * kernel has shape (height=3, width=1)\n",
    "    \n",
    "**verdict: generates desired 1-d convolution result**"
   ]
  },
  {
   "cell_type": "code",
   "execution_count": 2,
   "metadata": {},
   "outputs": [
    {
     "name": "stdout",
     "output_type": "stream",
     "text": [
      "x shape:       [1, 1, 5, 1]\n",
      "kernel shape:  [1, 3, 1, 1]\n",
      "conv_op shape: [1, 1, 5, 1]\n",
      "\n",
      "[[[[ 0.]\n",
      "   [ 0.]\n",
      "   [ 1.]\n",
      "   [ 0.]\n",
      "   [ 0.]]]] \n",
      "\n",
      "\n",
      "[[[[ 2.]]\n",
      "\n",
      "  [[ 3.]]\n",
      "\n",
      "  [[ 4.]]]] \n",
      "\n",
      "\n",
      "[[[[ 0.]\n",
      "   [ 4.]\n",
      "   [ 3.]\n",
      "   [ 2.]\n",
      "   [ 0.]]]] \n",
      "\n",
      "===============\n",
      "result:\n",
      " [ 0.  4.  3.  2.  0.]\n"
     ]
    }
   ],
   "source": [
    "# batch_shape = [batch_size, in_height, in_width, in_channels]\n",
    "x       = tf.constant([0, 0, 1, 0, 0], dtype=tf.float32)\n",
    "x       = tf.reshape(x, [1, 1, 5, 1])\n",
    "\n",
    "# kernel_shape = [width, height, n_channel_in, n_channel_out]\n",
    "kernel  = tf.constant([2, 3, 4], dtype=tf.float32)\n",
    "kernel  = tf.reshape(kernel, [1, 3, 1, 1])\n",
    "\n",
    "conv_op = tf.nn.conv2d(x, kernel, strides=[1, 1, 1, 1], padding=\"SAME\")\n",
    "\n",
    "# to make it readable\n",
    "reshape_op = tf.reshape(conv_op, [5])\n",
    "\n",
    "print( \"x shape:       {}\".format( x.get_shape().as_list() ) )\n",
    "print( \"kernel shape:  {}\".format( kernel.get_shape().as_list() ) )\n",
    "print( \"conv_op shape: {}\\n\".format( conv_op.get_shape().as_list() ) )\n",
    "\n",
    "with tf.Session() as sess:\n",
    "    print( sess.run(x), \"\\n\\n\" )\n",
    "    print( sess.run(kernel), \"\\n\\n\" )\n",
    "    print( sess.run(conv_op), \"\\n\" )\n",
    "    print( \"===============\\nresult:\\n\", sess.run(reshape_op) )"
   ]
  },
  {
   "cell_type": "markdown",
   "metadata": {},
   "source": [
    "#### Example 2: \n",
    "    * data has shape   (height=5, width=1)\n",
    "    * kernel has shape (height=1, width=3)\n",
    "    \n",
    "**verdict: generates desired 1-d convolution result**"
   ]
  },
  {
   "cell_type": "code",
   "execution_count": 3,
   "metadata": {},
   "outputs": [
    {
     "name": "stdout",
     "output_type": "stream",
     "text": [
      "x shape:       [1, 5, 1, 1]\n",
      "kernel shape:  [3, 1, 1, 1]\n",
      "conv_op shape: [1, 5, 1, 1]\n",
      "\n",
      "[[[[ 0.]]\n",
      "\n",
      "  [[ 0.]]\n",
      "\n",
      "  [[ 1.]]\n",
      "\n",
      "  [[ 0.]]\n",
      "\n",
      "  [[ 0.]]]] \n",
      "\n",
      "\n",
      "[[[[ 2.]]]\n",
      "\n",
      "\n",
      " [[[ 3.]]]\n",
      "\n",
      "\n",
      " [[[ 4.]]]] \n",
      "\n",
      "\n",
      "[[[[ 0.]]\n",
      "\n",
      "  [[ 4.]]\n",
      "\n",
      "  [[ 3.]]\n",
      "\n",
      "  [[ 2.]]\n",
      "\n",
      "  [[ 0.]]]] \n",
      "\n",
      "===============\n",
      "result:\n",
      " [ 0.  4.  3.  2.  0.]\n"
     ]
    }
   ],
   "source": [
    "# batch_shape = [batch_size, in_height, in_width, in_channels]\n",
    "x       = tf.constant([0, 0, 1, 0, 0], dtype=tf.float32)\n",
    "x       = tf.reshape(x, [1, 5, 1, 1])\n",
    "\n",
    "# kernel_shape = [width, height, n_channel_in, n_channel_out]\n",
    "kernel  = tf.constant([2, 3, 4], dtype=tf.float32)\n",
    "kernel  = tf.reshape(kernel, [3, 1, 1, 1])\n",
    "\n",
    "conv_op = tf.nn.conv2d(x, kernel, strides=[1, 1, 1, 1], padding=\"SAME\")\n",
    "\n",
    "# to make it readable\n",
    "reshape_op = tf.reshape(conv_op, [5])\n",
    "\n",
    "print( \"x shape:       {}\".format( x.get_shape().as_list() ) )\n",
    "print( \"kernel shape:  {}\".format( kernel.get_shape().as_list() ) )\n",
    "print( \"conv_op shape: {}\\n\".format( conv_op.get_shape().as_list() ) )\n",
    "\n",
    "with tf.Session() as sess:\n",
    "    print( sess.run(x), \"\\n\\n\" )\n",
    "    print( sess.run(kernel), \"\\n\\n\" )\n",
    "    print( sess.run(conv_op), \"\\n\" )\n",
    "    print( \"===============\\nresult:\\n\", sess.run(reshape_op) )"
   ]
  },
  {
   "cell_type": "markdown",
   "metadata": {},
   "source": [
    "#### Example 3:\n",
    "    * data has shape   (height=5, width=1)\n",
    "    * kernel has shape (height=3, width=1)\n",
    "    \n",
    "**verdict: does not generate desired 1-d convolution result**"
   ]
  },
  {
   "cell_type": "code",
   "execution_count": 4,
   "metadata": {},
   "outputs": [
    {
     "name": "stdout",
     "output_type": "stream",
     "text": [
      "x shape:       [1, 5, 1, 1]\n",
      "kernel shape:  [1, 3, 1, 1]\n",
      "conv_op shape: [1, 5, 1, 1]\n",
      "\n",
      "[[[[ 0.]]\n",
      "\n",
      "  [[ 0.]]\n",
      "\n",
      "  [[ 1.]]\n",
      "\n",
      "  [[ 0.]]\n",
      "\n",
      "  [[ 0.]]]] \n",
      "\n",
      "\n",
      "[[[[ 2.]]\n",
      "\n",
      "  [[ 3.]]\n",
      "\n",
      "  [[ 4.]]]] \n",
      "\n",
      "\n",
      "[[[[ 0.]]\n",
      "\n",
      "  [[ 0.]]\n",
      "\n",
      "  [[ 3.]]\n",
      "\n",
      "  [[ 0.]]\n",
      "\n",
      "  [[ 0.]]]] \n",
      "\n",
      "===============\n",
      "result:\n",
      " [ 0.  0.  3.  0.  0.]\n"
     ]
    }
   ],
   "source": [
    "# batch_shape = [batch_size, in_height, in_width, in_channels]\n",
    "x       = tf.constant([0, 0, 1, 0, 0], dtype=tf.float32)\n",
    "x       = tf.reshape(x, [1, 5, 1, 1])\n",
    "\n",
    "# kernel_shape = [width, height, n_channel_in, n_channel_out]\n",
    "kernel  = tf.constant([2, 3, 4], dtype=tf.float32)\n",
    "kernel  = tf.reshape(kernel, [1, 3, 1, 1])\n",
    "\n",
    "conv_op = tf.nn.conv2d(x, kernel, strides=[1, 1, 1, 1], padding=\"SAME\")\n",
    "\n",
    "# to make it readable\n",
    "reshape_op = tf.reshape(conv_op, [5])\n",
    "\n",
    "print( \"x shape:       {}\".format( x.get_shape().as_list() ) )\n",
    "print( \"kernel shape:  {}\".format( kernel.get_shape().as_list() ) )\n",
    "print( \"conv_op shape: {}\\n\".format( conv_op.get_shape().as_list() ) )\n",
    "\n",
    "with tf.Session() as sess:\n",
    "    print( sess.run(x), \"\\n\\n\" )\n",
    "    print( sess.run(kernel), \"\\n\\n\" )\n",
    "    print( sess.run(conv_op), \"\\n\" )\n",
    "    print( \"===============\\nresult:\\n\", sess.run(reshape_op) )"
   ]
  },
  {
   "cell_type": "markdown",
   "metadata": {},
   "source": [
    "#### Example 4:\n",
    "    * data has shape   (height=1, width=5)\n",
    "    * kernel has shape (height=1, width=3)\n",
    "    \n",
    "**verdict: does not generate desired 1-d convolution result**"
   ]
  },
  {
   "cell_type": "code",
   "execution_count": 5,
   "metadata": {},
   "outputs": [
    {
     "name": "stdout",
     "output_type": "stream",
     "text": [
      "x shape:       [1, 1, 5, 1]\n",
      "kernel shape:  [3, 1, 1, 1]\n",
      "conv_op shape: [1, 1, 5, 1]\n",
      "\n",
      "[[[[ 0.]\n",
      "   [ 0.]\n",
      "   [ 1.]\n",
      "   [ 0.]\n",
      "   [ 0.]]]] \n",
      "\n",
      "\n",
      "[[[[ 2.]]]\n",
      "\n",
      "\n",
      " [[[ 3.]]]\n",
      "\n",
      "\n",
      " [[[ 4.]]]] \n",
      "\n",
      "\n",
      "[[[[ 0.]\n",
      "   [ 0.]\n",
      "   [ 3.]\n",
      "   [ 0.]\n",
      "   [ 0.]]]] \n",
      "\n",
      "===============\n",
      "result:\n",
      " [ 0.  0.  3.  0.  0.]\n"
     ]
    }
   ],
   "source": [
    "# batch_shape = [batch_size, in_height, in_width, in_channels]\n",
    "x       = tf.constant([0, 0, 1, 0, 0], dtype=tf.float32)\n",
    "x       = tf.reshape(x, [1, 1, 5, 1])\n",
    "\n",
    "# kernel_shape = [width, height, n_channel_in, n_channel_out]\n",
    "kernel  = tf.constant([2, 3, 4], dtype=tf.float32)\n",
    "kernel  = tf.reshape(kernel, [3, 1, 1, 1])\n",
    "\n",
    "conv_op = tf.nn.conv2d(x, kernel, strides=[1, 1, 1, 1], padding=\"SAME\")\n",
    "\n",
    "# to make it readable\n",
    "reshape_op = tf.reshape(conv_op, [5])\n",
    "\n",
    "print( \"x shape:       {}\".format( x.get_shape().as_list() ) )\n",
    "print( \"kernel shape:  {}\".format( kernel.get_shape().as_list() ) )\n",
    "print( \"conv_op shape: {}\\n\".format( conv_op.get_shape().as_list() ) )\n",
    "\n",
    "with tf.Session() as sess:\n",
    "    print( sess.run(x), \"\\n\\n\" )\n",
    "    print( sess.run(kernel), \"\\n\\n\" )\n",
    "    print( sess.run(conv_op), \"\\n\" )\n",
    "    print( \"===============\\nresult:\\n\", sess.run(reshape_op) )"
   ]
  }
 ],
 "metadata": {
  "kernelspec": {
   "display_name": "Python 3",
   "language": "python",
   "name": "python3"
  },
  "language_info": {
   "codemirror_mode": {
    "name": "ipython",
    "version": 3
   },
   "file_extension": ".py",
   "mimetype": "text/x-python",
   "name": "python",
   "nbconvert_exporter": "python",
   "pygments_lexer": "ipython3",
   "version": "3.5.4"
  }
 },
 "nbformat": 4,
 "nbformat_minor": 2
}
