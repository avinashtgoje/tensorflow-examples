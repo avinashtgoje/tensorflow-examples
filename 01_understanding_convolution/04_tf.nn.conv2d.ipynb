{
 "cells": [
  {
   "cell_type": "markdown",
   "metadata": {},
   "source": [
    "# tf.nn.conv2d\n",
    "\n",
    "demonstration of convolution in the context of tensorflow\n",
    "\n",
    "## Part 2 - matrix signal, vector kernel convolution using tf.nn.conv2d\n",
    "* step 0 - import tensorflow!"
   ]
  },
  {
   "cell_type": "code",
   "execution_count": 1,
   "metadata": {},
   "outputs": [],
   "source": [
    "import tensorflow as tf"
   ]
  },
  {
   "cell_type": "markdown",
   "metadata": {},
   "source": [
    "#### Example 1:\n",
    "* data has shape   (height=2, width=5)\n",
    "* kernel has shape (height=3, width=1)\n",
    "\n",
    "**verdict: generates desired 1-d convolution result**"
   ]
  },
  {
   "cell_type": "code",
   "execution_count": 20,
   "metadata": {},
   "outputs": [
    {
     "name": "stdout",
     "output_type": "stream",
     "text": [
      "x shape:       [1, 2, 5, 1]\n",
      "kernel shape:  [1, 3, 1, 1]\n",
      "conv_op shape: [1, 2, 5, 1]\n",
      "\n",
      "[[[[  1.]\n",
      "   [  0.]\n",
      "   [  0.]\n",
      "   [  0.]\n",
      "   [  0.]]\n",
      "\n",
      "  [[  0.]\n",
      "   [ 10.]\n",
      "   [  0.]\n",
      "   [  0.]\n",
      "   [  0.]]]] \n",
      "------------\n",
      "[[[[ 2.]]\n",
      "\n",
      "  [[ 3.]]\n",
      "\n",
      "  [[ 4.]]]] \n",
      "------------\n",
      "[[[[  3.]\n",
      "   [  2.]\n",
      "   [  0.]\n",
      "   [  0.]\n",
      "   [  0.]]\n",
      "\n",
      "  [[ 40.]\n",
      "   [ 30.]\n",
      "   [ 20.]\n",
      "   [  0.]\n",
      "   [  0.]]]]\n",
      "===============\n",
      "result:\n",
      " [[  3.   2.   0.   0.   0.]\n",
      " [ 40.  30.  20.   0.   0.]]\n"
     ]
    }
   ],
   "source": [
    "arr  = [[1, 0, 0, 0, 0],[0, 10, 0, 0, 0]]\n",
    "kern = [2, 3, 4]\n",
    "\n",
    "# batch_shape = [batch_size, in_height, in_width, in_channels]\n",
    "x       = tf.constant(arr, dtype=tf.float32)\n",
    "x       = tf.reshape(x, [1, 2, 5, 1])\n",
    "\n",
    "# kernel_shape = [width, height, n_channel_in, n_channel_out]\n",
    "kernel  = tf.constant(kern, dtype=tf.float32)\n",
    "kernel  = tf.reshape(kernel, [1, 3, 1, 1])\n",
    "\n",
    "conv_op = tf.nn.conv2d(x, kernel, strides=[1, 1, 1, 1], padding=\"SAME\")\n",
    "\n",
    "# to make it readable\n",
    "reshape_op = tf.reshape(conv_op, [2, 5])\n",
    "\n",
    "print( \"x shape:       {}\".format( x.get_shape().as_list() ) )\n",
    "print( \"kernel shape:  {}\".format( kernel.get_shape().as_list() ) )\n",
    "print( \"conv_op shape: {}\\n\".format( conv_op.get_shape().as_list() ) )\n",
    "\n",
    "with tf.Session() as sess:\n",
    "    print( sess.run(x), \"\\n------------\" )\n",
    "    print( sess.run(kernel), \"\\n------------\" )\n",
    "    print( sess.run(conv_op) )\n",
    "    print( \"===============\\nresult:\\n\", sess.run(reshape_op) )"
   ]
  }
 ],
 "metadata": {
  "kernelspec": {
   "display_name": "Python 3",
   "language": "python",
   "name": "python3"
  },
  "language_info": {
   "codemirror_mode": {
    "name": "ipython",
    "version": 3
   },
   "file_extension": ".py",
   "mimetype": "text/x-python",
   "name": "python",
   "nbconvert_exporter": "python",
   "pygments_lexer": "ipython3",
   "version": "3.5.4"
  }
 },
 "nbformat": 4,
 "nbformat_minor": 2
}
