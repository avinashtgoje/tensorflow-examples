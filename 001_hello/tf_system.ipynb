{
 "cells": [
  {
   "cell_type": "markdown",
   "metadata": {},
   "source": [
    "# A Brief MATLAB<sup>&reg;</sup> Tutorial\n",
    "\n",
    "### Some Background on the MATLAB Language"
   ]
  },
  {
   "cell_type": "markdown",
   "metadata": {},
   "source": [
    "### Getting started\n",
    "\n",
    "**[Here, I need something about using MATLAB with IPython]**\n"
   ]
  },
  {
   "cell_type": "markdown",
   "metadata": {},
   "source": [
    "### Creating MATLAB arrays\n",
    "There are a number of ways to initialize new numpy arrays, for example from\n",
    "\n",
    "* using comma or semicolon delimited lists of numbers in square brackets\n",
    "* using 'slice' operators\n",
    "* using functions that are dedicated to generating MATLAB arrays, such as `arange`, `linspace`, etc.\n",
    "* reading data from files"
   ]
  },
  {
   "cell_type": "markdown",
   "metadata": {},
   "source": [
    "#### From lists"
   ]
  },
  {
   "cell_type": "markdown",
   "metadata": {},
   "source": [
    "For example, to create new vector and matrix arrays from Python lists we can use the `numpy.array` function.%"
   ]
  },
  {
   "cell_type": "code",
   "execution_count": 1,
   "metadata": {
    "collapsed": false
   },
   "outputs": [
    {
     "data": {
      "text/plain": [
       "u =\r\n",
       "\r\n",
       "     1     2     3     4\r\n",
       "\r\n",
       "\r\n",
       "v =\r\n",
       "\r\n",
       "     1\r\n",
       "     2\r\n",
       "     3\r\n",
       "     4"
      ]
     },
     "execution_count": 1,
     "metadata": {},
     "output_type": "execute_result"
    }
   ],
   "source": [
    "% a row vector\n",
    "u = [1,2,3,4]\n",
    "% a column vector\n",
    "v = [1;2;3;4]\n"
   ]
  },
  {
   "cell_type": "code",
   "execution_count": 2,
   "metadata": {
    "collapsed": false
   },
   "outputs": [
    {
     "data": {
      "text/plain": [
       "M =\r\n",
       "\r\n",
       "     1     2\r\n",
       "     3     4"
      ]
     },
     "execution_count": 2,
     "metadata": {},
     "output_type": "execute_result"
    }
   ],
   "source": [
    "% a matrix: commas separate columns and semicolons separate rows \n",
    "M = [1,2;3,4]\n"
   ]
  },
  {
   "cell_type": "markdown",
   "metadata": {},
   "source": [
    "The `v` and `M` objects are both numerical array objects of the class `double`, which is the default type for numerical objects in MATLAB."
   ]
  },
  {
   "cell_type": "code",
   "execution_count": 3,
   "metadata": {
    "collapsed": false
   },
   "outputs": [
    {
     "data": {
      "text/plain": [
       "ans =\r\n",
       "\r\n",
       "double\r\n",
       "\r\n",
       "\r\n",
       "ans =\r\n",
       "\r\n",
       "double"
      ]
     },
     "execution_count": 3,
     "metadata": {},
     "output_type": "execute_result"
    }
   ],
   "source": [
    "class(v) \n",
    "class(M)"
   ]
  },
  {
   "cell_type": "markdown",
   "metadata": {},
   "source": [
    "The difference between the `v` and `M` arrays is only their shapes. We can get information about the shape of an array by using the `size` command."
   ]
  },
  {
   "cell_type": "code",
   "execution_count": 4,
   "metadata": {
    "collapsed": false
   },
   "outputs": [
    {
     "data": {
      "text/plain": [
       "ans =\r\n",
       "\r\n",
       "     4     1"
      ]
     },
     "execution_count": 4,
     "metadata": {},
     "output_type": "execute_result"
    }
   ],
   "source": [
    "size(v)"
   ]
  },
  {
   "cell_type": "code",
   "execution_count": 5,
   "metadata": {
    "collapsed": false
   },
   "outputs": [
    {
     "data": {
      "text/plain": [
       "ans =\r\n",
       "\r\n",
       "     2     2"
      ]
     },
     "execution_count": 5,
     "metadata": {},
     "output_type": "execute_result"
    }
   ],
   "source": [
    "size(M)"
   ]
  },
  {
   "cell_type": "markdown",
   "metadata": {},
   "source": [
    "You can get the total number of elements in the array is by taking the product of the `size` result"
   ]
  },
  {
   "cell_type": "code",
   "execution_count": 6,
   "metadata": {
    "collapsed": false
   },
   "outputs": [
    {
     "data": {
      "text/plain": [
       "ans =\r\n",
       "\r\n",
       "     4"
      ]
     },
     "execution_count": 6,
     "metadata": {},
     "output_type": "execute_result"
    }
   ],
   "source": [
    "prod(size(M))"
   ]
  },
  {
   "cell_type": "markdown",
   "metadata": {},
   "source": [
    "#### Using 'slice' operations\n",
    "\n",
    "The colon `:` acts as a slice operator that you can use generate a regularly-spaced grid of numbers. The syntax is `start:stepsize:stop`."
   ]
  },
  {
   "cell_type": "code",
   "execution_count": 7,
   "metadata": {
    "collapsed": false
   },
   "outputs": [
    {
     "data": {
      "text/plain": [
       "x =\r\n",
       "\r\n",
       "    1.0000    1.1000    1.2000    1.3000    1.4000    1.5000    1.6000    1.7000    1.8000    1.9000    2.0000"
      ]
     },
     "execution_count": 7,
     "metadata": {},
     "output_type": "execute_result"
    }
   ],
   "source": [
    "x = 1:0.1:2"
   ]
  },
  {
   "cell_type": "markdown",
   "metadata": {},
   "source": [
    "If you leave out the central parameter, it uses a default spacing of 1."
   ]
  },
  {
   "cell_type": "code",
   "execution_count": 8,
   "metadata": {
    "collapsed": false
   },
   "outputs": [
    {
     "data": {
      "text/plain": [
       "x =\r\n",
       "\r\n",
       "    2.5000    3.5000    4.5000"
      ]
     },
     "execution_count": 8,
     "metadata": {},
     "output_type": "execute_result"
    }
   ],
   "source": [
    "x = 2.5:4.5"
   ]
  },
  {
   "cell_type": "markdown",
   "metadata": {},
   "source": [
    "#### Using array-generating functions"
   ]
  },
  {
   "cell_type": "markdown",
   "metadata": {},
   "source": [
    "For larger arrays it is inpractical to initialize the data manually, using explicit python lists. Instead we can use one of the many functions that generates arrays of different forms. Some of the more common are:"
   ]
  },
  {
   "cell_type": "markdown",
   "metadata": {},
   "source": [
    "* `linspace` and `logspace`"
   ]
  },
  {
   "cell_type": "code",
   "execution_count": 9,
   "metadata": {
    "collapsed": false
   },
   "outputs": [
    {
     "data": {
      "text/plain": [
       "ans =\r\n",
       "\r\n",
       "  Columns 1 through 13\r\n",
       "\r\n",
       "         0    0.4167    0.8333    1.2500    1.6667    2.0833    2.5000    2.9167    3.3333    3.7500    4.1667    4.5833    5.0000\r\n",
       "\r\n",
       "  Columns 14 through 25\r\n",
       "\r\n",
       "    5.4167    5.8333    6.2500    6.6667    7.0833    7.5000    7.9167    8.3333    8.7500    9.1667    9.5833   10.0000"
      ]
     },
     "execution_count": 9,
     "metadata": {},
     "output_type": "execute_result"
    }
   ],
   "source": [
    "% syntax is linspace(start,stop,nr_steps)\n",
    "linspace(0, 10, 25)"
   ]
  },
  {
   "cell_type": "code",
   "execution_count": 10,
   "metadata": {
    "collapsed": false
   },
   "outputs": [
    {
     "data": {
      "text/plain": [
       "ans =\r\n",
       "\r\n",
       "   1.0e+04 *\r\n",
       "\r\n",
       "    0.0010    0.0022    0.0046    0.0100    0.0215    0.0464    0.1000    0.2154    0.4642    1.0000"
      ]
     },
     "execution_count": 10,
     "metadata": {},
     "output_type": "execute_result"
    }
   ],
   "source": [
    "% syntax is logspace(log(start),log(stop),nr_steps)\n",
    "logspace(1,4,10)"
   ]
  },
  {
   "cell_type": "markdown",
   "metadata": {},
   "source": [
    "* `meshgrid`"
   ]
  },
  {
   "cell_type": "code",
   "execution_count": 11,
   "metadata": {
    "collapsed": false
   },
   "outputs": [],
   "source": [
    "ticks = linspace(-2,2,5);\n",
    "\n",
    "[x, y] = meshgrid(ticks,-ticks);"
   ]
  },
  {
   "cell_type": "code",
   "execution_count": 12,
   "metadata": {
    "collapsed": false
   },
   "outputs": [
    {
     "data": {
      "text/plain": [
       "x =\r\n",
       "\r\n",
       "    -2    -1     0     1     2\r\n",
       "    -2    -1     0     1     2\r\n",
       "    -2    -1     0     1     2\r\n",
       "    -2    -1     0     1     2\r\n",
       "    -2    -1     0     1     2"
      ]
     },
     "execution_count": 12,
     "metadata": {},
     "output_type": "execute_result"
    }
   ],
   "source": [
    "x"
   ]
  },
  {
   "cell_type": "code",
   "execution_count": 13,
   "metadata": {
    "collapsed": false
   },
   "outputs": [
    {
     "data": {
      "text/plain": [
       "y =\r\n",
       "\r\n",
       "     2     2     2     2     2\r\n",
       "     1     1     1     1     1\r\n",
       "     0     0     0     0     0\r\n",
       "    -1    -1    -1    -1    -1\r\n",
       "    -2    -2    -2    -2    -2"
      ]
     },
     "execution_count": 13,
     "metadata": {},
     "output_type": "execute_result"
    }
   ],
   "source": [
    "y"
   ]
  },
  {
   "cell_type": "markdown",
   "metadata": {},
   "source": [
    "* random data using `rand` and `randn`"
   ]
  },
  {
   "cell_type": "code",
   "execution_count": 14,
   "metadata": {
    "collapsed": false
   },
   "outputs": [
    {
     "data": {
      "text/plain": [
       "ans =\r\n",
       "\r\n",
       "    0.8147    0.0975    0.1576    0.1419    0.6557\r\n",
       "    0.9058    0.2785    0.9706    0.4218    0.0357\r\n",
       "    0.1270    0.5469    0.9572    0.9157    0.8491\r\n",
       "    0.9134    0.9575    0.4854    0.7922    0.9340\r\n",
       "    0.6324    0.9649    0.8003    0.9595    0.6787"
      ]
     },
     "execution_count": 14,
     "metadata": {},
     "output_type": "execute_result"
    }
   ],
   "source": [
    "% uniform random numbers in [0,1]\n",
    "rand(5,5)"
   ]
  },
  {
   "cell_type": "code",
   "execution_count": 15,
   "metadata": {
    "collapsed": false
   },
   "outputs": [
    {
     "data": {
      "text/plain": [
       "ans =\r\n",
       "\r\n",
       "    1.0347    0.8884    1.4384   -0.1022   -0.0301\r\n",
       "    0.7269   -1.1471    0.3252   -0.2414   -0.1649\r\n",
       "   -0.3034   -1.0689   -0.7549    0.3192    0.6277\r\n",
       "    0.2939   -0.8095    1.3703    0.3129    1.0933\r\n",
       "   -0.7873   -2.9443   -1.7115   -0.8649    1.1093"
      ]
     },
     "execution_count": 15,
     "metadata": {},
     "output_type": "execute_result"
    }
   ],
   "source": [
    "% standard normal distributed random numbers\n",
    "randn(5,5)"
   ]
  },
  {
   "cell_type": "markdown",
   "metadata": {},
   "source": [
    "* `eye` and `diag`"
   ]
  },
  {
   "cell_type": "code",
   "execution_count": 16,
   "metadata": {
    "collapsed": false
   },
   "outputs": [
    {
     "data": {
      "text/plain": [
       "ans =\r\n",
       "\r\n",
       "     1     0     0\r\n",
       "     0     1     0\r\n",
       "     0     0     1"
      ]
     },
     "execution_count": 16,
     "metadata": {},
     "output_type": "execute_result"
    }
   ],
   "source": [
    "% an identity matrix\n",
    "eye(3)"
   ]
  },
  {
   "cell_type": "code",
   "execution_count": 17,
   "metadata": {
    "collapsed": false
   },
   "outputs": [
    {
     "data": {
      "text/plain": [
       "ans =\r\n",
       "\r\n",
       "     1     0     0\r\n",
       "     0     2     0\r\n",
       "     0     0     3"
      ]
     },
     "execution_count": 17,
     "metadata": {},
     "output_type": "execute_result"
    }
   ],
   "source": [
    "% a diagonal matrix\n",
    "diag([1,2,3])"
   ]
  },
  {
   "cell_type": "markdown",
   "metadata": {},
   "source": [
    "* `zeros` and `ones` (to create arrays full of zeroes and ones)"
   ]
  },
  {
   "cell_type": "code",
   "execution_count": 18,
   "metadata": {
    "collapsed": false
   },
   "outputs": [
    {
     "data": {
      "text/plain": [
       "ans =\r\n",
       "\r\n",
       "     0     0     0\r\n",
       "     0     0     0\r\n",
       "     0     0     0"
      ]
     },
     "execution_count": 18,
     "metadata": {},
     "output_type": "execute_result"
    }
   ],
   "source": [
    "zeros(3,3)"
   ]
  },
  {
   "cell_type": "code",
   "execution_count": 19,
   "metadata": {
    "collapsed": false
   },
   "outputs": [
    {
     "data": {
      "text/plain": [
       "ans =\r\n",
       "\r\n",
       "     1     1     1\r\n",
       "     1     1     1\r\n",
       "     1     1     1"
      ]
     },
     "execution_count": 19,
     "metadata": {},
     "output_type": "execute_result"
    }
   ],
   "source": [
    "ones(3,3)"
   ]
  },
  {
   "cell_type": "markdown",
   "metadata": {},
   "source": [
    "### Manipulating arrays\n",
    "#### Indexing"
   ]
  },
  {
   "cell_type": "markdown",
   "metadata": {},
   "source": [
    "Indexing in MATLAB arrays is based on the analogy of a matrix. Indices start at 1 and appear as a comma-separated list of integers in parentheses, with one index for each dimension of the matrix:"
   ]
  },
  {
   "cell_type": "code",
   "execution_count": 20,
   "metadata": {
    "collapsed": false
   },
   "outputs": [
    {
     "data": {
      "text/plain": [
       "v =\r\n",
       "\r\n",
       "     1     2     3     4     5     6\r\n",
       "\r\n",
       "\r\n",
       "ans =\r\n",
       "\r\n",
       "     1"
      ]
     },
     "execution_count": 20,
     "metadata": {},
     "output_type": "execute_result"
    }
   ],
   "source": [
    "M = rand(3,3);\n",
    "v = [1:6]\n",
    "\n",
    "% v is a vector, and has only one dimension, taking one index\n",
    "v(1)"
   ]
  },
  {
   "cell_type": "code",
   "execution_count": 21,
   "metadata": {
    "collapsed": false
   },
   "outputs": [
    {
     "data": {
      "text/plain": [
       "ans =\r\n",
       "\r\n",
       "    0.1190"
      ]
     },
     "execution_count": 21,
     "metadata": {},
     "output_type": "execute_result"
    }
   ],
   "source": [
    "% M is a matrix, or a 2 dimensional array, taking two indices \n",
    "M(2,2)"
   ]
  },
  {
   "cell_type": "markdown",
   "metadata": {},
   "source": [
    "If we replace the index of a multidimensional array with a colon `:` MATLAB returns the whole row (or, in general, a N-1 dimensional array) "
   ]
  },
  {
   "cell_type": "code",
   "execution_count": 22,
   "metadata": {
    "collapsed": false
   },
   "outputs": [
    {
     "data": {
      "text/plain": [
       "M =\r\n",
       "\r\n",
       "    0.2760    0.1626    0.9597\r\n",
       "    0.6797    0.1190    0.3404\r\n",
       "    0.6551    0.4984    0.5853"
      ]
     },
     "execution_count": 22,
     "metadata": {},
     "output_type": "execute_result"
    }
   ],
   "source": [
    "M"
   ]
  },
  {
   "cell_type": "code",
   "execution_count": 23,
   "metadata": {
    "collapsed": false
   },
   "outputs": [
    {
     "data": {
      "text/plain": [
       "ans =\r\n",
       "\r\n",
       "    0.2760    0.1626    0.9597"
      ]
     },
     "execution_count": 23,
     "metadata": {},
     "output_type": "execute_result"
    }
   ],
   "source": [
    "M(1,:) % row 1 "
   ]
  },
  {
   "cell_type": "code",
   "execution_count": 24,
   "metadata": {
    "collapsed": false
   },
   "outputs": [
    {
     "data": {
      "text/plain": [
       "ans =\r\n",
       "\r\n",
       "    0.2760\r\n",
       "    0.6797\r\n",
       "    0.6551"
      ]
     },
     "execution_count": 24,
     "metadata": {},
     "output_type": "execute_result"
    }
   ],
   "source": [
    "M(:,1) % column 1"
   ]
  },
  {
   "cell_type": "markdown",
   "metadata": {},
   "source": [
    "We can assign new values to elements in an array using indexing:"
   ]
  },
  {
   "cell_type": "code",
   "execution_count": 25,
   "metadata": {
    "collapsed": false
   },
   "outputs": [
    {
     "data": {
      "text/plain": [
       "M =\r\n",
       "\r\n",
       "    1.0000    0.1626    0.9597\r\n",
       "    0.6797    0.1190    0.3404\r\n",
       "    0.6551    0.4984    0.5853"
      ]
     },
     "execution_count": 25,
     "metadata": {},
     "output_type": "execute_result"
    }
   ],
   "source": [
    "M(1,1) = 1"
   ]
  },
  {
   "cell_type": "markdown",
   "metadata": {},
   "source": [
    "This also works for rows and columns"
   ]
  },
  {
   "cell_type": "code",
   "execution_count": 26,
   "metadata": {
    "collapsed": false
   },
   "outputs": [
    {
     "data": {
      "text/plain": [
       "M =\r\n",
       "\r\n",
       "         0         0         0\r\n",
       "    0.6797    0.1190    0.3404\r\n",
       "    0.6551    0.4984    0.5853"
      ]
     },
     "execution_count": 26,
     "metadata": {},
     "output_type": "execute_result"
    }
   ],
   "source": [
    "M(1,:) = 0 % set the entire first row to 0"
   ]
  },
  {
   "cell_type": "code",
   "execution_count": 27,
   "metadata": {
    "collapsed": false
   },
   "outputs": [
    {
     "data": {
      "text/plain": [
       "M =\r\n",
       "\r\n",
       "         0   -1.0000         0\r\n",
       "    0.6797   -1.0000    0.3404\r\n",
       "    0.6551   -1.0000    0.5853"
      ]
     },
     "execution_count": 27,
     "metadata": {},
     "output_type": "execute_result"
    }
   ],
   "source": [
    "M(:,2) = -1 % set the entire second column to -1"
   ]
  },
  {
   "cell_type": "markdown",
   "metadata": {},
   "source": [
    "#### Slicing\n",
    "The slicing operations work similarly to those in Matlab and those covered for lists in the Basic Python Tutorial, so I won't cover them here."
   ]
  },
  {
   "cell_type": "markdown",
   "metadata": {},
   "source": [
    "#### Fancy indexing\n",
    "Fancy indexing is the name for when an array is used in-place of an index: "
   ]
  },
  {
   "cell_type": "code",
   "execution_count": 28,
   "metadata": {
    "collapsed": false
   },
   "outputs": [
    {
     "data": {
      "text/plain": [
       "A =\r\n",
       "\r\n",
       "     0     1    -1     1     0\r\n",
       "     1     2     2    -1     0\r\n",
       "    -1     0    -1    -1     1\r\n",
       "     0    -1     1    -1     0\r\n",
       "     1    -1     0     0     0\r\n",
       "\r\n",
       "\r\n",
       "row_indices =\r\n",
       "\r\n",
       "     1     2     3\r\n",
       "\r\n",
       "\r\n",
       "ans =\r\n",
       "\r\n",
       "     0\r\n",
       "     1\r\n",
       "    -1"
      ]
     },
     "execution_count": 28,
     "metadata": {},
     "output_type": "execute_result"
    }
   ],
   "source": [
    "A = round(randn(5,5),0) % we'll talk about the round() function later.\n",
    "\n",
    "row_indices = [1, 2, 3]\n",
    "A(row_indices,1)"
   ]
  },
  {
   "cell_type": "code",
   "execution_count": 29,
   "metadata": {
    "collapsed": false
   },
   "outputs": [
    {
     "data": {
      "text/plain": [
       "col_indices =\r\n",
       "\r\n",
       "     1     2     4\r\n",
       "\r\n",
       "\r\n",
       "ans =\r\n",
       "\r\n",
       "     0     1     1\r\n",
       "     1     2    -1\r\n",
       "    -1     0    -1"
      ]
     },
     "execution_count": 29,
     "metadata": {},
     "output_type": "execute_result"
    }
   ],
   "source": [
    "col_indices = [1, 2, 4]\n",
    "A(row_indices, col_indices)"
   ]
  },
  {
   "cell_type": "markdown",
   "metadata": {},
   "source": [
    "We can also index using logical arrays (or index masks): If the index mask is an array with data type `logical`, then an element is selected (1 or 'true') or not (0 or 'false') depending on the value of the index mask at the position each element.\n",
    "\n",
    "Note that the size of the index mask must be equal to the size of the numerical array it is indexing."
   ]
  },
  {
   "cell_type": "code",
   "execution_count": 30,
   "metadata": {
    "collapsed": false
   },
   "outputs": [
    {
     "data": {
      "text/plain": [
       "B =\r\n",
       "\r\n",
       "     1     2     3     4     5"
      ]
     },
     "execution_count": 30,
     "metadata": {},
     "output_type": "execute_result"
    }
   ],
   "source": [
    "B = 1:5"
   ]
  },
  {
   "cell_type": "code",
   "execution_count": 31,
   "metadata": {
    "collapsed": false
   },
   "outputs": [
    {
     "data": {
      "text/plain": [
       "row_mask =\r\n",
       "\r\n",
       "     1     0     1     0     0\r\n",
       "\r\n",
       "\r\n",
       "ans =\r\n",
       "\r\n",
       "     1     3"
      ]
     },
     "execution_count": 31,
     "metadata": {},
     "output_type": "execute_result"
    }
   ],
   "source": [
    "row_mask = logical([1,0,1,0,0]) %create a logical array\n",
    "B(row_mask)"
   ]
  },
  {
   "cell_type": "markdown",
   "metadata": {},
   "source": [
    "This feature is very useful to conditionally select elements from an array, using for example comparison operators:"
   ]
  },
  {
   "cell_type": "code",
   "execution_count": 32,
   "metadata": {
    "collapsed": false
   },
   "outputs": [
    {
     "data": {
      "text/plain": [
       "x =\r\n",
       "\r\n",
       "  Columns 1 through 13\r\n",
       "\r\n",
       "    1.0000    1.5000    2.0000    2.5000    3.0000    3.5000    4.0000    4.5000    5.0000    5.5000    6.0000    6.5000    7.0000\r\n",
       "\r\n",
       "  Columns 14 through 19\r\n",
       "\r\n",
       "    7.5000    8.0000    8.5000    9.0000    9.5000   10.0000"
      ]
     },
     "execution_count": 32,
     "metadata": {},
     "output_type": "execute_result"
    }
   ],
   "source": [
    "x = 1:0.5:10"
   ]
  },
  {
   "cell_type": "code",
   "execution_count": 33,
   "metadata": {
    "collapsed": false
   },
   "outputs": [
    {
     "data": {
      "text/plain": [
       "mask =\r\n",
       "\r\n",
       "     0     0     0     0     0     0     0     0     0     1     1     1     1     0     0     0     0     0     0"
      ]
     },
     "execution_count": 33,
     "metadata": {},
     "output_type": "execute_result"
    }
   ],
   "source": [
    "mask = (5 < x) & (x < 7.5)\n"
   ]
  },
  {
   "cell_type": "code",
   "execution_count": 34,
   "metadata": {
    "collapsed": false
   },
   "outputs": [
    {
     "data": {
      "text/plain": [
       "ans =\r\n",
       "\r\n",
       "    5.5000    6.0000    6.5000    7.0000"
      ]
     },
     "execution_count": 34,
     "metadata": {},
     "output_type": "execute_result"
    }
   ],
   "source": [
    "x(mask)"
   ]
  },
  {
   "cell_type": "markdown",
   "metadata": {},
   "source": [
    "### Linear algebra\n",
    "Vectorizing code (operating on arrays rather than individual elements) is the key to writing efficient numerical calculation with MATLAB. That means that as much as possible of a program should be formulated in terms of array operations"
   ]
  },
  {
   "cell_type": "markdown",
   "metadata": {},
   "source": [
    "#### Scalar-array operations\n",
    "We can use the usual arithmetic operators to multiply, add, subtract, and divide arrays with scalar numbers."
   ]
  },
  {
   "cell_type": "code",
   "execution_count": 35,
   "metadata": {
    "collapsed": false
   },
   "outputs": [
    {
     "data": {
      "text/plain": [
       "v1 =\r\n",
       "\r\n",
       "     0     1     2     3     4"
      ]
     },
     "execution_count": 35,
     "metadata": {},
     "output_type": "execute_result"
    }
   ],
   "source": [
    "v1 = [0:4]"
   ]
  },
  {
   "cell_type": "code",
   "execution_count": 36,
   "metadata": {
    "collapsed": false
   },
   "outputs": [
    {
     "data": {
      "text/plain": [
       "ans =\r\n",
       "\r\n",
       "     0     2     4     6     8"
      ]
     },
     "execution_count": 36,
     "metadata": {},
     "output_type": "execute_result"
    }
   ],
   "source": [
    "v1 * 2"
   ]
  },
  {
   "cell_type": "code",
   "execution_count": 37,
   "metadata": {
    "collapsed": false
   },
   "outputs": [
    {
     "data": {
      "text/plain": [
       "ans =\r\n",
       "\r\n",
       "     2     3     4     5     6"
      ]
     },
     "execution_count": 37,
     "metadata": {},
     "output_type": "execute_result"
    }
   ],
   "source": [
    "v1 + 2"
   ]
  },
  {
   "cell_type": "code",
   "execution_count": 38,
   "metadata": {
    "collapsed": false
   },
   "outputs": [
    {
     "data": {
      "text/plain": [
       "ans =\r\n",
       "\r\n",
       "     0     2    -2     2     0\r\n",
       "     2     4     4    -2     0\r\n",
       "    -2     0    -2    -2     2\r\n",
       "     0    -2     2    -2     0\r\n",
       "     2    -2     0     0     0\r\n",
       "\r\n",
       "\r\n",
       "ans =\r\n",
       "\r\n",
       "     2     3     1     3     2\r\n",
       "     3     4     4     1     2\r\n",
       "     1     2     1     1     3\r\n",
       "     2     1     3     1     2\r\n",
       "     3     1     2     2     2"
      ]
     },
     "execution_count": 38,
     "metadata": {},
     "output_type": "execute_result"
    }
   ],
   "source": [
    "A * 2\n",
    "A + 2"
   ]
  },
  {
   "cell_type": "markdown",
   "metadata": {},
   "source": [
    "#### Element-wise array-array operations"
   ]
  },
  {
   "cell_type": "markdown",
   "metadata": {},
   "source": [
    "In contrast to the behavior of numpy arrays, when we add, subtract, multiply and divide arrays with each other the default behaviour is **matrix** operations. To indicate **element-wise** operations, you must prepend the operator with a decimal point `.`"
   ]
  },
  {
   "cell_type": "code",
   "execution_count": 39,
   "metadata": {
    "collapsed": false
   },
   "outputs": [
    {
     "data": {
      "text/plain": [
       "ans =\r\n",
       "\r\n",
       "     0     1     1     1     0\r\n",
       "     1     4     4     1     0\r\n",
       "     1     0     1     1     1\r\n",
       "     0     1     1     1     0\r\n",
       "     1     1     0     0     0"
      ]
     },
     "execution_count": 39,
     "metadata": {},
     "output_type": "execute_result"
    }
   ],
   "source": [
    "A .* A % element-wise multiplication"
   ]
  },
  {
   "cell_type": "code",
   "execution_count": 40,
   "metadata": {
    "collapsed": false
   },
   "outputs": [
    {
     "data": {
      "text/plain": [
       "ans =\r\n",
       "\r\n",
       "     0     1     4     9    16"
      ]
     },
     "execution_count": 40,
     "metadata": {},
     "output_type": "execute_result"
    }
   ],
   "source": [
    "v1 .* v1"
   ]
  },
  {
   "cell_type": "markdown",
   "metadata": {},
   "source": [
    "If you attempt elementwise multiplication of arrays with unequal shapes, you should get an error message"
   ]
  },
  {
   "cell_type": "code",
   "execution_count": 41,
   "metadata": {
    "collapsed": false
   },
   "outputs": [
    {
     "data": {
      "text/plain": [
       "ans =\r\n",
       "\r\n",
       "     5     5\r\n",
       "\r\n",
       "\r\n",
       "ans =\r\n",
       "\r\n",
       "     1     5"
      ]
     },
     "execution_count": 41,
     "metadata": {},
     "output_type": "execute_result"
    }
   ],
   "source": [
    "size(A) \n",
    "size(v1)"
   ]
  },
  {
   "cell_type": "code",
   "execution_count": 42,
   "metadata": {
    "collapsed": false
   },
   "outputs": [
    {
     "name": "stderr",
     "output_type": "stream",
     "text": [
      "Matrix dimensions must agree.\n"
     ]
    }
   ],
   "source": [
    "A .* v1"
   ]
  },
  {
   "cell_type": "markdown",
   "metadata": {},
   "source": [
    "#### Matrix algebra"
   ]
  },
  {
   "cell_type": "markdown",
   "metadata": {},
   "source": [
    "For matrix multiplication, we can use the unadorned multiplication operator, which applies a matrix-matrix or matrix-vector multiplication to its two arguments (we may talk more about this in an upcoming linear algebra tutorial): "
   ]
  },
  {
   "cell_type": "code",
   "execution_count": 43,
   "metadata": {
    "collapsed": false
   },
   "outputs": [
    {
     "data": {
      "text/plain": [
       "ans =\r\n",
       "\r\n",
       "     3    -1     0    -3    -1\r\n",
       "    -1    10    -2     1    -1\r\n",
       "     0    -2     4     0    -1\r\n",
       "    -3     1     0     3     1\r\n",
       "    -1    -1    -1     1     2"
      ]
     },
     "execution_count": 43,
     "metadata": {},
     "output_type": "execute_result"
    }
   ],
   "source": [
    "A*A'\n",
    "\n",
    "% Note: A' is MATLAB's way of representing the matrix transpose of A"
   ]
  },
  {
   "cell_type": "code",
   "execution_count": 44,
   "metadata": {
    "collapsed": false
   },
   "outputs": [
    {
     "data": {
      "text/plain": [
       "ans =\r\n",
       "\r\n",
       "     2\r\n",
       "     3\r\n",
       "    -1\r\n",
       "    -2\r\n",
       "    -1"
      ]
     },
     "execution_count": 44,
     "metadata": {},
     "output_type": "execute_result"
    }
   ],
   "source": [
    "A*v1'"
   ]
  },
  {
   "cell_type": "markdown",
   "metadata": {},
   "source": [
    "You can also use the `dot` function, which computes an inner product directly (without requiring transposition of either element)."
   ]
  },
  {
   "cell_type": "code",
   "execution_count": 45,
   "metadata": {
    "collapsed": false
   },
   "outputs": [
    {
     "data": {
      "text/plain": [
       "ans =\r\n",
       "\r\n",
       "    30\r\n",
       "\r\n",
       "\r\n",
       "ans =\r\n",
       "\r\n",
       "    30"
      ]
     },
     "execution_count": 45,
     "metadata": {},
     "output_type": "execute_result"
    }
   ],
   "source": [
    "% e.g.,\n",
    "\n",
    "dot(v1,v1)\n",
    "\n",
    "% is equivalent to\n",
    "\n",
    "v1 * v1'"
   ]
  },
  {
   "cell_type": "markdown",
   "metadata": {},
   "source": [
    "### Reshaping, resizing and stacking arrays"
   ]
  },
  {
   "cell_type": "markdown",
   "metadata": {},
   "source": [
    "The `reshape` command can reshape an array to any size that preserves the number of elements"
   ]
  },
  {
   "cell_type": "code",
   "execution_count": 46,
   "metadata": {
    "collapsed": false
   },
   "outputs": [
    {
     "data": {
      "text/plain": [
       "A =\r\n",
       "\r\n",
       "     0     1    -1     1     0\r\n",
       "     1     2     2    -1     0\r\n",
       "    -1     0    -1    -1     1\r\n",
       "     0    -1     1    -1     0\r\n",
       "     1    -1     0     0     0"
      ]
     },
     "execution_count": 46,
     "metadata": {},
     "output_type": "execute_result"
    }
   ],
   "source": [
    "A"
   ]
  },
  {
   "cell_type": "code",
   "execution_count": 47,
   "metadata": {
    "collapsed": false
   },
   "outputs": [
    {
     "data": {
      "text/plain": [
       "B =\r\n",
       "\r\n",
       "  Columns 1 through 22\r\n",
       "\r\n",
       "     0     1    -1     0     1     1     2     0    -1    -1    -1     2    -1     1     0     1    -1    -1    -1     0     0     0\r\n",
       "\r\n",
       "  Columns 23 through 25\r\n",
       "\r\n",
       "     1     0     0"
      ]
     },
     "execution_count": 47,
     "metadata": {},
     "output_type": "execute_result"
    }
   ],
   "source": [
    "[n,m] = size(A);\n",
    "\n",
    "B = reshape(A,1,n*m)"
   ]
  },
  {
   "cell_type": "markdown",
   "metadata": {},
   "source": [
    "The colon `(:)` operation, returns a one-dimensional flattened version of the original array"
   ]
  },
  {
   "cell_type": "code",
   "execution_count": 48,
   "metadata": {
    "collapsed": false
   },
   "outputs": [
    {
     "data": {
      "text/plain": [
       "B =\r\n",
       "\r\n",
       "     0\r\n",
       "     1\r\n",
       "    -1\r\n",
       "     0\r\n",
       "     1\r\n",
       "     1\r\n",
       "     2\r\n",
       "     0\r\n",
       "    -1\r\n",
       "    -1\r\n",
       "    -1\r\n",
       "     2\r\n",
       "    -1\r\n",
       "     1\r\n",
       "     0\r\n",
       "     1\r\n",
       "    -1\r\n",
       "    -1\r\n",
       "    -1\r\n",
       "     0\r\n",
       "     0\r\n",
       "     0\r\n",
       "     1\r\n",
       "     0\r\n",
       "     0"
      ]
     },
     "execution_count": 48,
     "metadata": {},
     "output_type": "execute_result"
    }
   ],
   "source": [
    "B = A(:)\n"
   ]
  },
  {
   "cell_type": "markdown",
   "metadata": {},
   "source": [
    "### Stacking and repeating arrays"
   ]
  },
  {
   "cell_type": "markdown",
   "metadata": {},
   "source": [
    "Using function `repmat` and `concatenate` we can create larger vectors and matrices from smaller ones:"
   ]
  },
  {
   "cell_type": "markdown",
   "metadata": {},
   "source": [
    "#### tile and repeat"
   ]
  },
  {
   "cell_type": "code",
   "execution_count": 49,
   "metadata": {
    "collapsed": false
   },
   "outputs": [
    {
     "data": {
      "text/plain": [
       "a =\r\n",
       "\r\n",
       "     1     2\r\n",
       "     3     4"
      ]
     },
     "execution_count": 49,
     "metadata": {},
     "output_type": "execute_result"
    }
   ],
   "source": [
    "a = [1, 2; 3, 4]"
   ]
  },
  {
   "cell_type": "code",
   "execution_count": 50,
   "metadata": {
    "collapsed": false
   },
   "outputs": [
    {
     "data": {
      "text/plain": [
       "ans =\r\n",
       "\r\n",
       "     1     2\r\n",
       "     3     4\r\n",
       "     1     2\r\n",
       "     3     4\r\n",
       "     1     2\r\n",
       "     3     4"
      ]
     },
     "execution_count": 50,
     "metadata": {},
     "output_type": "execute_result"
    }
   ],
   "source": [
    "% repeat each element 3 times in the vertical direction \n",
    "% and once in the horizontal direction\n",
    "repmat(a, 3,1)"
   ]
  },
  {
   "cell_type": "code",
   "execution_count": 51,
   "metadata": {
    "collapsed": false
   },
   "outputs": [
    {
     "data": {
      "text/plain": [
       "ans =\r\n",
       "\r\n",
       "     1     2     1     2     1     2\r\n",
       "     3     4     3     4     3     4"
      ]
     },
     "execution_count": 51,
     "metadata": {},
     "output_type": "execute_result"
    }
   ],
   "source": [
    "% do the converse, once in the vertical and 3 times in the horizontal direction\n",
    "repmat(a, 1,3)"
   ]
  },
  {
   "cell_type": "markdown",
   "metadata": {},
   "source": [
    "#### concatenating arrays with `cat` and `[]`\n",
    "\n",
    "Concatenate along the vertical direction"
   ]
  },
  {
   "cell_type": "code",
   "execution_count": 52,
   "metadata": {
    "collapsed": false
   },
   "outputs": [],
   "source": [
    "b = [5, 6];"
   ]
  },
  {
   "cell_type": "code",
   "execution_count": 53,
   "metadata": {
    "collapsed": false
   },
   "outputs": [
    {
     "data": {
      "text/plain": [
       "ans =\r\n",
       "\r\n",
       "     1     2\r\n",
       "     3     4\r\n",
       "     5     6"
      ]
     },
     "execution_count": 53,
     "metadata": {},
     "output_type": "execute_result"
    }
   ],
   "source": [
    "% concatenate arrays a and b along the first (row) dimension\n",
    "cat(1,a,b)"
   ]
  },
  {
   "cell_type": "code",
   "execution_count": 54,
   "metadata": {
    "collapsed": false
   },
   "outputs": [
    {
     "data": {
      "text/plain": [
       "ans =\r\n",
       "\r\n",
       "     1     2\r\n",
       "     3     4\r\n",
       "     5     6"
      ]
     },
     "execution_count": 54,
     "metadata": {},
     "output_type": "execute_result"
    }
   ],
   "source": [
    "% is equivalent to:\n",
    "[a;b]"
   ]
  },
  {
   "cell_type": "markdown",
   "metadata": {},
   "source": [
    "and along the horizontal direction"
   ]
  },
  {
   "cell_type": "code",
   "execution_count": 55,
   "metadata": {
    "collapsed": false
   },
   "outputs": [
    {
     "data": {
      "text/plain": [
       "ans =\r\n",
       "\r\n",
       "     1     2     5\r\n",
       "     3     4     6"
      ]
     },
     "execution_count": 55,
     "metadata": {},
     "output_type": "execute_result"
    }
   ],
   "source": [
    "% concatenate arrays a and b transpose along the second (column) direction\n",
    "\n",
    "cat(2,a,b')"
   ]
  },
  {
   "cell_type": "code",
   "execution_count": 56,
   "metadata": {
    "collapsed": false
   },
   "outputs": [
    {
     "data": {
      "text/plain": [
       "ans =\r\n",
       "\r\n",
       "     1     2     5\r\n",
       "     3     4     6"
      ]
     },
     "execution_count": 56,
     "metadata": {},
     "output_type": "execute_result"
    }
   ],
   "source": [
    "% or\n",
    "\n",
    "[a,b']"
   ]
  },
  {
   "cell_type": "markdown",
   "metadata": {},
   "source": [
    "To concatenate along a third (or greater) dimension, you must use `cat`"
   ]
  },
  {
   "cell_type": "code",
   "execution_count": 57,
   "metadata": {
    "collapsed": false
   },
   "outputs": [
    {
     "data": {
      "text/plain": [
       "ans(:,:,1) =\r\n",
       "\r\n",
       "     1     2\r\n",
       "     3     4\r\n",
       "\r\n",
       "\r\n",
       "ans(:,:,2) =\r\n",
       "\r\n",
       "     1     2\r\n",
       "     3     4"
      ]
     },
     "execution_count": 57,
     "metadata": {},
     "output_type": "execute_result"
    }
   ],
   "source": [
    "% concatenate array 'a' with a copy of itself along the third dimension\n",
    "\n",
    "cat(3,a,a)"
   ]
  },
  {
   "cell_type": "markdown",
   "metadata": {},
   "source": [
    "## MATLAB<sup>&reg;</sup> Plotting\n",
    "\n",
    "MATLAB has excellent 2D and 3D graphics facilities for generating scientific figures. Some of its advantages include:\n",
    "\n",
    "* Easy to get started\n",
    "* Support for $\\LaTeX$ formatted labels and texts\n",
    "* Control of every element in a figure, including figure size and DPI (though some elements are difficult to control programatically). \n",
    "* High-quality output in a variety formats, including PNG, PDF, SVG, EPS. The antialiasing and some of the default settings are poor, but this has improved greatly in more recent versions of MATLAB (&ge; 2014a).\n",
    "* Well-developed GUI for interactively exploring figures.\n"
   ]
  },
  {
   "cell_type": "markdown",
   "metadata": {},
   "source": [
    "### Programming model\n",
    "\n",
    "MATLAB uses only a state-machine approach to plot construction (unlike pylab/matplotlib which has both a state machine and object-oriented interfaces). \n",
    "\n",
    "Here's a brief demonstration of a 2D MATLAB function plot (a simple sinusoid):\n",
    "\n",
    "Let's begin by setting up the data"
   ]
  },
  {
   "cell_type": "code",
   "execution_count": 58,
   "metadata": {
    "collapsed": false
   },
   "outputs": [],
   "source": [
    "x = linspace(0,1,100);\n",
    "freq = 2.0;\n",
    "y = cos(2*pi*freq*x);"
   ]
  },
  {
   "cell_type": "markdown",
   "metadata": {},
   "source": [
    "Now, let's plot it."
   ]
  },
  {
   "cell_type": "code",
   "execution_count": 59,
   "metadata": {
    "collapsed": false
   },
   "outputs": [
    {
     "data": {
      "image/png": "[encoded data removed]",
      "text/plain": [
       "<IPython.core.display.Image object>"
      ]
     },
     "metadata": {},
     "output_type": "display_data"
    }
   ],
   "source": [
    "plot(x,y,'r-');\n",
    "title('A Sinusoid');\n",
    "xlabel('Time');\n",
    "ylabel('Pressure');\n"
   ]
  },
  {
   "cell_type": "markdown",
   "metadata": {},
   "source": [
    "You can also make multi-panel plots using the `subplots` command. The syntax is `subplot(nr_rows,nr_columns,panel_index)`, where the panel indices advance across columns first, then across rows."
   ]
  },
  {
   "cell_type": "code",
   "execution_count": 60,
   "metadata": {
    "collapsed": false
   },
   "outputs": [
    {
     "data": {
      "image/png": "[encoded data removed]",
      "text/plain": [
       "<IPython.core.display.Image object>"
      ]
     },
     "metadata": {},
     "output_type": "display_data"
    }
   ],
   "source": [
    "y2 = sin(2*pi*freq*x); % set up another function to plot\n",
    "figure(); % make the figure longer to accommodate both plots\n",
    "% make the original plot\n",
    "subplot(1,2,1); plot(x,y,'r');\n",
    "xlabel('Time');\n",
    "ylabel('Pressure');\n",
    "title('Cosine');\n",
    "% make the second plot\n",
    "subplot(1,2,2); plot(x,y2,'g');\n",
    "xlabel('Time');\n",
    "title('Sine');"
   ]
  },
  {
   "cell_type": "markdown",
   "metadata": {},
   "source": [
    "Even using the simple Matlab-style plotting model, you can programmatically control many aspects of the plot. E.g.,"
   ]
  },
  {
   "cell_type": "code",
   "execution_count": 61,
   "metadata": {
    "collapsed": false
   },
   "outputs": [
    {
     "data": {
      "image/png": "[encoded data removed]",
      "text/plain": [
       "<IPython.core.display.Image object>"
      ]
     },
     "metadata": {},
     "output_type": "display_data"
    }
   ],
   "source": [
    "figure();\n",
    "plot(x,y,'color','r','linestyle','--','linewidth',2.0); % type help(plot) to get a list of available parameters\n",
    "%yticks([-1,0,1]); % sets the locations of the ticks on the y axis\n",
    "%xticks([0,0.5,1],['short','medium','long']); % sets locations and labels of the x ticks\n",
    "axis([-0.1,1.1,-1.1,1.1]); % sets the visible axis limits\n",
    "ylabel('Pressure (\\muPa)')\n",
    "xlabel('Elapsed time');\n"
   ]
  },
  {
   "cell_type": "markdown",
   "metadata": {},
   "source": [
    "### Image Plots & 3D Plots\n",
    "\n",
    "Basic image plotting is similar across MATLAB and pylab (i.e., matplotlib). `imagesc` is the rough MATLAB equivalent to pylab's `imshow`."
   ]
  },
  {
   "cell_type": "code",
   "execution_count": 62,
   "metadata": {
    "collapsed": false
   },
   "outputs": [],
   "source": [
    "locs = linspace(-3,3,61); % generate individual abscissae\n",
    "[x,y] = meshgrid(locs,-locs); % create point grid\n",
    "\n",
    "cos_tiling = @(x,y) cos(x*pi/2).*cos(y*pi/2); % define an arbitrary 2D function"
   ]
  },
  {
   "cell_type": "code",
   "execution_count": 63,
   "metadata": {
    "collapsed": false
   },
   "outputs": [
    {
     "data": {
      "image/png": "[encoded data removed]",
      "text/plain": [
       "<IPython.core.display.Image object>"
      ]
     },
     "metadata": {},
     "output_type": "display_data"
    }
   ],
   "source": [
    "figure(); \n",
    "imagesc([-3,3],[-3,3],cos_tiling(x,y)); colormap('jet');\n",
    "%imshow(cos_tiling(x,y),extent=[-3,3,-3,3],cmap=cm.jet);\n",
    "colorbar();"
   ]
  },
  {
   "cell_type": "markdown",
   "metadata": {},
   "source": [
    "In the example above, the `extent` parmeter tells the `imshow` routine what values correspond to the outer edges of your grid, while the `cmap` parameter indicates the colormap."
   ]
  },
  {
   "cell_type": "markdown",
   "metadata": {},
   "source": [
    "`contour` works similarly:"
   ]
  },
  {
   "cell_type": "code",
   "execution_count": 64,
   "metadata": {
    "collapsed": false
   },
   "outputs": [
    {
     "data": {
      "image/png": "[encoded data removed]",
      "text/plain": [
       "<IPython.core.display.Image object>"
      ]
     },
     "metadata": {},
     "output_type": "display_data"
    }
   ],
   "source": [
    "figure(); contour(x,y,cos_tiling(x,y));"
   ]
  },
  {
   "cell_type": "markdown",
   "metadata": {},
   "source": [
    "Plotting 3D surface plots (and 3D plots more generally) is one place where MATLAB's capabilities exceed those of matplotlib."
   ]
  },
  {
   "cell_type": "code",
   "execution_count": 65,
   "metadata": {
    "collapsed": false
   },
   "outputs": [
    {
     "data": {
      "image/png": "[encoded data removed]",
      "text/plain": [
       "<IPython.core.display.Image object>"
      ]
     },
     "metadata": {},
     "output_type": "display_data"
    }
   ],
   "source": [
    "figure();\n",
    "mesh(x,y,cos_tiling(x,y));\n",
    "view(30,30); % change the camera view(elevation,azimuth)"
   ]
  },
  {
   "cell_type": "markdown",
   "metadata": {},
   "source": [
    "### Saving figures\n",
    "You can save figures programmatically using the `savefig` and `saveas` functions:"
   ]
  },
  {
   "cell_type": "code",
   "execution_count": 66,
   "metadata": {
    "collapsed": false
   },
   "outputs": [
    {
     "data": {
      "image/png": "[encoded data removed]",
      "text/plain": [
       "<IPython.core.display.Image object>"
      ]
     },
     "metadata": {},
     "output_type": "display_data"
    }
   ],
   "source": [
    "% to save a file in MATLAB's native figure format\n",
    "savefig('filename.fig');\n",
    "% to export the file to some other standard format\n",
    "% the file type can be inferred from the file extension\n",
    "saveas(gcf,'filename.png');\n",
    "\n",
    "% Note: for some reason this doesn't work here (in the Jupyter notebook). \n",
    "% However, it should work in the standard MATLAB interpreter."
   ]
  }
 ],
 "metadata": {
  "kernelspec": {
   "display_name": "Matlab",
   "language": "matlab",
   "name": "matlab_kernel"
  },
  "language_info": {
   "codemirror_mode": "Octave",
   "file_extension": ".m",
   "help_links": [
    {
     "text": "MetaKernel Magics",
     "url": "https://github.com/calysto/metakernel/blob/master/metakernel/magics/README.md"
    }
   ],
   "mimetype": "text/x-matlab",
   "name": "octave"
  }
 },
 "nbformat": 4,
 "nbformat_minor": 0
}
