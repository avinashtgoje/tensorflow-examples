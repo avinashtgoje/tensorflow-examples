{
  "cells": [
  {
    "cell_type": "markdown",
    "metadata": {},
    "source": [
    "import foo"
    ]
  },
  {
    "cell_type": "code",
    "execution_count": 0,
    "metadata": {
    "collapsed": true
    },
    "outputs": [],
    "source": [
    "from lstm_predictor import generate_data, lstm_model"
    ]
  }
  ],
  "metadata": {
    "kernelspec": {
      "display_name": "Python 3",
      "language": "python",
      "name": "python3"
    },
    "language_info": {
      "codemirror_mode": {
      "name": "ipython",
      "version": 3
    },
    "file_extension": ".py",
    "mimetype": "text/x-python",
    "name": "python",
    "nbconvert_exporter": "python",
    "pygments_lexer": "ipython3",
    "version": "3.4.4"
    }
  },
  "nbformat": 4,
  "nbformat_minor": 0
  }
