{
  "cells": [
  {
    "cell_type": "markdown",
    "metadata": {},
    "source": [
    "import foo"
    ]
  },
  {
    "cell_type": "code",
    "execution_count": 0,
    "metadata": {
    "collapsed": true
    },
    "outputs": [],
    "source": [
    "from lstm_predictor import generate_data, lstm_model"
    ]
  },
  {
    "cell_type": "markdown",
    "metadata": {},
    "source": [
    "This is the next section"
    ]
  },
  {
    "cell_type": "code",
    "execution_count": 1,
    "metadata": {
      "collapsed": true,
      "kernelspec": {
        "language": "MATLAB",
        "name": "matlab"
      }
    },
    "outputs": [],
    "source": [
      "for indx = 1:5",
      "   disp(indx);",
      "end"
    ]
  }
],
  "metadata": {
    "kernelspec": {
      "display_name": "Python 3",
      "language": "python",
      "name": "python3"
    },
    "language_info": {
      "codemirror_mode": {
      "name": "ipython",
      "version": 3
    },
    "file_extension": ".py",
    "mimetype": "text/x-python",
    "name": "python",
    "nbconvert_exporter": "python",
    "pygments_lexer": "ipython3",
    "version": "3.4.4"
    }
  },
  "nbformat": 4,
  "nbformat_minor": 0
  }
