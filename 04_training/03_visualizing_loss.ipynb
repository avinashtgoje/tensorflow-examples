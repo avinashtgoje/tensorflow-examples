{
 "cells": [
  {
   "cell_type": "markdown",
   "metadata": {},
   "source": [
    "# visualizing the loss function\n",
    "\n",
    "### loss in regression problems is generally the scalar sum of the difference between evaluated value per training step, and actual value"
   ]
  },
  {
   "cell_type": "code",
   "execution_count": 1,
   "metadata": {},
   "outputs": [],
   "source": [
    "# FRONT MATTER - IMPORT LIBRARIES\n",
    "# so we can use tensorflow\n",
    "import tensorflow as tf\n",
    "import scipy.io as sio\n",
    "import numpy as np\n",
    "\n",
    "# so we can plot training data\n",
    "%matplotlib inline\n",
    "import matplotlib\n",
    "import matplotlib.pyplot as plt"
   ]
  },
  {
   "cell_type": "code",
   "execution_count": 2,
   "metadata": {},
   "outputs": [
    {
     "name": "stdout",
     "output_type": "stream",
     "text": [
      "source data is: [ 0.  0.  0.  0.  0.]\n",
      "target data is: [ 0.  1.  2.  3.  4.]\n",
      "trained 'b' is: [ 0.          0.99999964  1.99999928  2.99999857  3.99999857]\n"
     ]
    },
    {
     "data": {
      "image/png": "[encoded data removed]",
      "text/plain": [
       "<matplotlib.figure.Figure at 0x19725281e80>"
      ]
     },
     "metadata": {},
     "output_type": "display_data"
    }
   ],
   "source": [
    "source = tf.placeholder(dtype=tf.float32)\n",
    "labels = tf.placeholder(dtype=tf.float32)\n",
    "\n",
    "b      = tf.Variable(np.zeros(5), dtype=tf.float32)\n",
    "\n",
    "logits = source + b\n",
    "loss   = tf.reduce_sum(tf.square(logits-labels))\n",
    "\n",
    "train_op = tf.train.GradientDescentOptimizer(learning_rate=.04).minimize(loss)\n",
    "\n",
    "init_op  = tf.global_variables_initializer()\n",
    "\n",
    "with tf.Session() as sess:\n",
    "\n",
    "    # initialize global variables\n",
    "    sess.run(init_op)\n",
    "\n",
    "    # arrays that will each hold a snapshot at each step of training\n",
    "    loss_eval, b_eval = [], []\n",
    "    \n",
    "    dummy_src = np.zeros(5) #[0, 0, ... {N}]\n",
    "    dummy_tgt = np.arange(5, dtype=np.float32) #[0, 1, ... N]\n",
    "\n",
    "    print(\"source data is: {}\".format(dummy_src))\n",
    "    print(\"target data is: {}\".format(dummy_tgt))\n",
    "    \n",
    "    # run the training operation \n",
    "    for indx in range(200):\n",
    "        sess.run(train_op, feed_dict={source:dummy_src, labels:dummy_tgt})\n",
    "        \n",
    "        b_eval.append( sess.run(b) )\n",
    "        loss_eval.append( sess.run(loss, feed_dict={source:dummy_src, labels:dummy_tgt}) )\n",
    "\n",
    "    print(\"trained 'b' is: {}\".format(sess.run(b)))\n",
    "    sio.savemat('b', {'b':b_eval, 'loss':loss_eval})\n",
    "        \n",
    "    plt.plot(loss_eval)\n",
    "    plt.title(\"loss function evaluation by training step, LR = 0.04 \")\n",
    "    plt.show()"
   ]
  },
  {
   "cell_type": "markdown",
   "metadata": {},
   "source": [
    "Here, we can see the loss decreasing as the trained value of b approaches the actual value\n",
    "\n",
    "![](./kern_loss.gif)"
   ]
  }
 ],
 "metadata": {
  "kernelspec": {
   "display_name": "Python 3",
   "language": "python",
   "name": "python3"
  },
  "language_info": {
   "codemirror_mode": {
    "name": "ipython",
    "version": 3
   },
   "file_extension": ".py",
   "mimetype": "text/x-python",
   "name": "python",
   "nbconvert_exporter": "python",
   "pygments_lexer": "ipython3",
   "version": "3.5.4"
  }
 },
 "nbformat": 4,
 "nbformat_minor": 2
}
