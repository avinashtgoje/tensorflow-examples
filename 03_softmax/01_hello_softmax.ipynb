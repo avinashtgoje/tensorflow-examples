{
 "cells": [
  {
   "cell_type": "markdown",
   "metadata": {},
   "source": [
    "# tf.nn.softmax\n",
    "\n",
    "### the softmax operation is computed across the rows."
   ]
  },
  {
   "cell_type": "code",
   "execution_count": 1,
   "metadata": {},
   "outputs": [],
   "source": [
    "import tensorflow as tf"
   ]
  },
  {
   "cell_type": "code",
   "execution_count": 2,
   "metadata": {},
   "outputs": [
    {
     "name": "stdout",
     "output_type": "stream",
     "text": [
      "[[ 1.  1.  1.  1.  1.  1.]] \n",
      "\n",
      "[[ 1.  1.  1.]\n",
      " [ 1.  1.  1.]] \n",
      "\n",
      "[[ 0.33333334  0.33333334  0.33333334]\n",
      " [ 0.33333334  0.33333334  0.33333334]] \n",
      "\n"
     ]
    }
   ],
   "source": [
    "x             = tf.ones([1, 6], tf.float32)\n",
    "reshape_op_1  = tf.reshape(x, [2,3])\n",
    "softmax_op_1  = tf.nn.softmax(reshape_op_1)\n",
    "\n",
    "with tf.Session() as sess:\n",
    "    print( sess.run(x) , \"\\n\")\n",
    "    print( sess.run(reshape_op_1) , \"\\n\")\n",
    "    print( sess.run(softmax_op_1) , \"\\n\")"
   ]
  },
  {
   "cell_type": "code",
   "execution_count": 3,
   "metadata": {},
   "outputs": [
    {
     "name": "stdout",
     "output_type": "stream",
     "text": [
      "[[ 1.  1.  1.  1.  1.  1.]] \n",
      "\n",
      "[[ 1.  1.]\n",
      " [ 1.  1.]\n",
      " [ 1.  1.]] \n",
      "\n",
      "[[ 0.5  0.5]\n",
      " [ 0.5  0.5]\n",
      " [ 0.5  0.5]] \n",
      "\n"
     ]
    }
   ],
   "source": [
    "reshape_op_2  = tf.reshape(x, [3,2])\n",
    "softmax_op_2  = tf.nn.softmax(reshape_op_2)\n",
    "\n",
    "with tf.Session() as sess:\n",
    "    print( sess.run(x) , \"\\n\")\n",
    "    print( sess.run(reshape_op_2) , \"\\n\")\n",
    "    print( sess.run(softmax_op_2) , \"\\n\")"
   ]
  },
  {
   "cell_type": "code",
   "execution_count": null,
   "metadata": {},
   "outputs": [],
   "source": []
  }
 ],
 "metadata": {
  "kernelspec": {
   "display_name": "Python 3",
   "language": "python",
   "name": "python3"
  },
  "language_info": {
   "codemirror_mode": {
    "name": "ipython",
    "version": 3
   },
   "file_extension": ".py",
   "mimetype": "text/x-python",
   "name": "python",
   "nbconvert_exporter": "python",
   "pygments_lexer": "ipython3",
   "version": "3.5.4"
  }
 },
 "nbformat": 4,
 "nbformat_minor": 2
}
