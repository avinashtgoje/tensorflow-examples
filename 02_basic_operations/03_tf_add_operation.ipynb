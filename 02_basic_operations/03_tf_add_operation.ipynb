{
 "cells": [
  {
   "cell_type": "markdown",
   "metadata": {},
   "source": [
    "# tf.add\n",
    "\n",
    "#### a relatively simple operation that reshapes a tensor\n",
    "\n",
    "* step 0 - import tensorflow!"
   ]
  },
  {
   "cell_type": "code",
   "execution_count": 1,
   "metadata": {},
   "outputs": [],
   "source": [
    "import tensorflow as tf"
   ]
  },
  {
   "cell_type": "markdown",
   "metadata": {},
   "source": [
    "* step 1.1: create a constant\n",
    "* step 1.2: create an add operation\n",
    "\n",
    "    * remember that these are tensors until they are run in the session"
   ]
  },
  {
   "cell_type": "code",
   "execution_count": 2,
   "metadata": {},
   "outputs": [
    {
     "name": "stdout",
     "output_type": "stream",
     "text": [
      "Tensor(\"Const:0\", shape=(3,), dtype=float32)\n",
      "Tensor(\"Add:0\", shape=(3,), dtype=float32)\n"
     ]
    }
   ],
   "source": [
    "x      = tf.constant([1, 2, 3], dtype=tf.float32)\n",
    "add_op = tf.add(x, 2.0)\n",
    "print(x)\n",
    "print(add_op)"
   ]
  },
  {
   "cell_type": "markdown",
   "metadata": {},
   "source": [
    "* step 2: create a reshape operation\n",
    "    * the reshape operation is _also_ a tensor until evaluated in the session"
   ]
  },
  {
   "cell_type": "code",
   "execution_count": 3,
   "metadata": {},
   "outputs": [
    {
     "name": "stdout",
     "output_type": "stream",
     "text": [
      "[ 1.  2.  3.] \n",
      "\n",
      "================\n",
      "[ 3.  4.  5.] \n",
      "\n"
     ]
    }
   ],
   "source": [
    "with tf.Session() as sess:\n",
    "    print( sess.run(x) )\n",
    "    print( \"================\")\n",
    "    print( sess.run(add_op) )"
   ]
  }
 ],
 "metadata": {
  "kernelspec": {
   "display_name": "Python 3",
   "language": "python",
   "name": "python3"
  },
  "language_info": {
   "codemirror_mode": {
    "name": "ipython",
    "version": 3
   },
   "file_extension": ".py",
   "mimetype": "text/x-python",
   "name": "python",
   "nbconvert_exporter": "python",
   "pygments_lexer": "ipython3",
   "version": "3.5.4"
  }
 },
 "nbformat": 4,
 "nbformat_minor": 2
}
