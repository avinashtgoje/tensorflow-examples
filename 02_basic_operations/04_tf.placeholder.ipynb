{
 "cells": [
  {
   "cell_type": "markdown",
   "metadata": {},
   "source": [
    "# tf.placeholder\n",
    "\n",
    "### placeholders are used so that values can be stuffed in a session run time"
   ]
  },
  {
   "cell_type": "code",
   "execution_count": 1,
   "metadata": {},
   "outputs": [],
   "source": [
    "import tensorflow as tf"
   ]
  },
  {
   "cell_type": "code",
   "execution_count": 3,
   "metadata": {},
   "outputs": [
    {
     "name": "stdout",
     "output_type": "stream",
     "text": [
      "Tensor(\"Placeholder_1:0\", dtype=float32)\n",
      "Result 1 = \n",
      "[[ 20.  12.]\n",
      " [ 13.  14.]\n",
      " [ 15.  16.]]\n",
      "\n",
      "Result 2 = \n",
      "[[ 9.  8.]\n",
      " [ 7.  6.]\n",
      " [ 5.  4.]]\n",
      "\n"
     ]
    }
   ],
   "source": [
    "x           = tf.placeholder(tf.float32)\n",
    "\n",
    "reshape_op  = tf.reshape(x, [3, 2])\n",
    "add_op      = tf.add(reshape_op, 10.0)\n",
    "\n",
    "with tf.Session() as sess:\n",
    "    res = sess.run(add_op, feed_dict={x : [10, 2, 3, 4, 5, 6]})\n",
    "    print(\"Result 1 = \\n{}\\n\".format(res))\n",
    "\n",
    "    res = sess.run(add_op, feed_dict={x : [-1, -2, -3, -4, -5, -6]})\n",
    "    print(\"Result 2 = \\n{}\\n\".format(res))"
   ]
  }
 ],
 "metadata": {
  "kernelspec": {
   "display_name": "Python 3",
   "language": "python",
   "name": "python3"
  },
  "language_info": {
   "codemirror_mode": {
    "name": "ipython",
    "version": 3
   },
   "file_extension": ".py",
   "mimetype": "text/x-python",
   "name": "python",
   "nbconvert_exporter": "python",
   "pygments_lexer": "ipython3",
   "version": "3.5.4"
  }
 },
 "nbformat": 4,
 "nbformat_minor": 2
}
